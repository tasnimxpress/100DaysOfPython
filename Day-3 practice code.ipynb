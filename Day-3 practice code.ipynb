{
 "cells": [
  {
   "cell_type": "markdown",
   "id": "efb13643",
   "metadata": {},
   "source": [
    "## ticketing"
   ]
  },
  {
   "cell_type": "code",
   "execution_count": 105,
   "id": "09f5966e",
   "metadata": {},
   "outputs": [
    {
     "name": "stdout",
     "output_type": "stream",
     "text": [
      "height: 123\n"
     ]
    }
   ],
   "source": [
    "height = int(input('height: '))"
   ]
  },
  {
   "cell_type": "code",
   "execution_count": 106,
   "id": "4c47b876",
   "metadata": {},
   "outputs": [],
   "source": [
    "bill = 0"
   ]
  },
  {
   "cell_type": "code",
   "execution_count": 117,
   "id": "1e02eddb",
   "metadata": {},
   "outputs": [
    {
     "name": "stdout",
     "output_type": "stream",
     "text": [
      "enter age: 18\n",
      "ticket price $7\n",
      "Do you want photo taken? Type \"Y\" for yes, Type \"N\" for noY\n",
      "Please pay $10\n"
     ]
    }
   ],
   "source": [
    "if height > 120:\n",
    "    age = float(input('enter age: '))\n",
    "    if age <= 12:\n",
    "        bill = 5\n",
    "        print(f'ticket price ${bill}')\n",
    "    elif age <= 18:\n",
    "        bill = 7\n",
    "        print(f'ticket price ${bill}')\n",
    "    else :\n",
    "        bill = 12\n",
    "        print(f'ticket price ${bill}')\n",
    "        \n",
    "    photo = input('Do you want photo taken? Type \"Y\" for yes, Type \"N\" for no')\n",
    "    if photo == 'Y':\n",
    "        bill = bill + 3\n",
    "        \n",
    "    print(f'Please pay ${bill}')\n",
    "\n",
    "else:\n",
    "    print('You are not eligible to ride')"
   ]
  },
  {
   "cell_type": "markdown",
   "id": "7fd2f1db",
   "metadata": {},
   "source": [
    "## odd even"
   ]
  },
  {
   "cell_type": "code",
   "execution_count": 3,
   "id": "b573c235",
   "metadata": {},
   "outputs": [
    {
     "name": "stdout",
     "output_type": "stream",
     "text": [
      "number: 2\n"
     ]
    }
   ],
   "source": [
    "number = float(input('number: '))"
   ]
  },
  {
   "cell_type": "code",
   "execution_count": 4,
   "id": "3260fc92",
   "metadata": {},
   "outputs": [
    {
     "name": "stdout",
     "output_type": "stream",
     "text": [
      "even\n"
     ]
    }
   ],
   "source": [
    "if number % 2 == 0:\n",
    "    print('even')\n",
    "else:\n",
    "    print('Odd')"
   ]
  },
  {
   "cell_type": "markdown",
   "id": "6e59faaf",
   "metadata": {},
   "source": [
    "## BMI calculator"
   ]
  },
  {
   "cell_type": "code",
   "execution_count": 50,
   "id": "58c8d9a7",
   "metadata": {},
   "outputs": [
    {
     "name": "stdout",
     "output_type": "stream",
     "text": [
      "weight in kg: 80\n"
     ]
    }
   ],
   "source": [
    "weight = float(input('weight in kg: '))"
   ]
  },
  {
   "cell_type": "code",
   "execution_count": 51,
   "id": "4850fa47",
   "metadata": {},
   "outputs": [
    {
     "name": "stdout",
     "output_type": "stream",
     "text": [
      "height in meter: 1.75\n"
     ]
    }
   ],
   "source": [
    "height = float(input('height in meter: '))"
   ]
  },
  {
   "cell_type": "code",
   "execution_count": 52,
   "id": "39e20cb9",
   "metadata": {},
   "outputs": [],
   "source": [
    "bmi = round(weight/(height**2),2)"
   ]
  },
  {
   "cell_type": "code",
   "execution_count": 53,
   "id": "d3304883",
   "metadata": {},
   "outputs": [
    {
     "name": "stdout",
     "output_type": "stream",
     "text": [
      "26.12\n"
     ]
    }
   ],
   "source": [
    "print(bmi)"
   ]
  },
  {
   "cell_type": "code",
   "execution_count": 54,
   "id": "00c78161",
   "metadata": {},
   "outputs": [
    {
     "name": "stdout",
     "output_type": "stream",
     "text": [
      "overweight\n"
     ]
    }
   ],
   "source": [
    "if bmi <= 18.5:\n",
    "    print('underweight')\n",
    "elif bmi <=25:\n",
    "    print('normal weight')\n",
    "elif bmi <= 30:\n",
    "    print('overweight')\n",
    "elif bmi <= 35:\n",
    "    print('obese')\n",
    "else:\n",
    "    print('clinically obese')"
   ]
  },
  {
   "cell_type": "markdown",
   "id": "74e7e8d8",
   "metadata": {},
   "source": [
    "## leap year"
   ]
  },
  {
   "cell_type": "code",
   "execution_count": 97,
   "id": "0298001c",
   "metadata": {
    "scrolled": true
   },
   "outputs": [
    {
     "name": "stdout",
     "output_type": "stream",
     "text": [
      "Year: 1989\n"
     ]
    }
   ],
   "source": [
    " year = int(input('Year: '))"
   ]
  },
  {
   "cell_type": "code",
   "execution_count": 98,
   "id": "568f67cd",
   "metadata": {},
   "outputs": [],
   "source": [
    "mod1 = year%100"
   ]
  },
  {
   "cell_type": "code",
   "execution_count": 99,
   "id": "eec545cb",
   "metadata": {},
   "outputs": [],
   "source": [
    "mod2 = year%400"
   ]
  },
  {
   "cell_type": "code",
   "execution_count": 100,
   "id": "d3de777d",
   "metadata": {},
   "outputs": [],
   "source": [
    "mod3 = year%4"
   ]
  },
  {
   "cell_type": "code",
   "execution_count": 101,
   "id": "24b0db75",
   "metadata": {},
   "outputs": [
    {
     "name": "stdout",
     "output_type": "stream",
     "text": [
      "not a leap year\n"
     ]
    }
   ],
   "source": [
    "if mod1 == mod2 and mod2 == mod3:\n",
    "    print('leap year')\n",
    "elif mod1 == mod2 and mod2 != mod3:\n",
    "    print('leap year') \n",
    "elif mod1 != mod2 and mod2 == mod3:\n",
    "    print('leap year') \n",
    "else:\n",
    "    print('not a leap year')"
   ]
  },
  {
   "cell_type": "markdown",
   "id": "36dbec37",
   "metadata": {},
   "source": [
    "## Pizza bill"
   ]
  },
  {
   "cell_type": "markdown",
   "id": "62df990d",
   "metadata": {},
   "source": [
    "* small_pizza = 15\n",
    "* medium_pizza = 20\n",
    "* large_pizza = 25\n",
    "* pepperoni for small = +2\n",
    "* pepperoni for medium and large = +3\n",
    "* extra cheese = +1"
   ]
  },
  {
   "cell_type": "code",
   "execution_count": 149,
   "id": "d7e17f27",
   "metadata": {},
   "outputs": [
    {
     "name": "stdout",
     "output_type": "stream",
     "text": [
      "What size pizza do you want? S, M, L: L\n"
     ]
    }
   ],
   "source": [
    "order = input('What size pizza do you want? S, M, L: ')"
   ]
  },
  {
   "cell_type": "code",
   "execution_count": 150,
   "id": "19f6222a",
   "metadata": {},
   "outputs": [
    {
     "name": "stdout",
     "output_type": "stream",
     "text": [
      "Do you want pepperoni? Y or N: Y\n"
     ]
    }
   ],
   "source": [
    "add_pepperoni = input('Do you want pepperoni? Y or N: ')"
   ]
  },
  {
   "cell_type": "code",
   "execution_count": 151,
   "id": "a8260931",
   "metadata": {},
   "outputs": [
    {
     "name": "stdout",
     "output_type": "stream",
     "text": [
      "Do you want iextra cheese? Y or N: N\n"
     ]
    }
   ],
   "source": [
    "extra_cheese = input('Do you want iextra cheese? Y or N: ')"
   ]
  },
  {
   "cell_type": "code",
   "execution_count": 152,
   "id": "39b03ed9",
   "metadata": {},
   "outputs": [],
   "source": [
    "bill = 0"
   ]
  },
  {
   "cell_type": "code",
   "execution_count": 157,
   "id": "3729a858",
   "metadata": {},
   "outputs": [
    {
     "name": "stdout",
     "output_type": "stream",
     "text": [
      "please pay $28\n"
     ]
    }
   ],
   "source": [
    "if order == 'S':\n",
    "    bill = 15\n",
    "    \n",
    "elif order == 'M':\n",
    "    bill = 20\n",
    "    \n",
    "elif order == 'L':\n",
    "    bill = 25\n",
    "        \n",
    "if add_pepperoni == 'Y':\n",
    "    if order == 'S':\n",
    "        bill = bill + 2\n",
    "    else:\n",
    "        bill = bill + 3\n",
    "        \n",
    "if extra_cheese == 'Y':\n",
    "    bill = bill + 1\n",
    "    \n",
    "print(f'please pay ${bill}')\n",
    "    "
   ]
  },
  {
   "cell_type": "markdown",
   "id": "fe8e5ae6",
   "metadata": {},
   "source": [
    "## Love calculator"
   ]
  },
  {
   "cell_type": "code",
   "execution_count": 168,
   "id": "29f1bb0e",
   "metadata": {},
   "outputs": [
    {
     "name": "stdout",
     "output_type": "stream",
     "text": [
      "what is your name? jannatul ferdous rumpa\n"
     ]
    }
   ],
   "source": [
    "your_name = input('what is your name? ').upper()"
   ]
  },
  {
   "cell_type": "code",
   "execution_count": 169,
   "id": "4581307b",
   "metadata": {},
   "outputs": [
    {
     "name": "stdout",
     "output_type": "stream",
     "text": [
      "What is your crush name? Tasnima aktar\n"
     ]
    }
   ],
   "source": [
    "their_name = input('What is your crush name? ').upper()"
   ]
  },
  {
   "cell_type": "code",
   "execution_count": 170,
   "id": "f66091e4",
   "metadata": {},
   "outputs": [],
   "source": [
    "name = (f'{your_name} {their_name}')"
   ]
  },
  {
   "cell_type": "code",
   "execution_count": 171,
   "id": "8723ffa0",
   "metadata": {},
   "outputs": [],
   "source": [
    "t = name.count('T')"
   ]
  },
  {
   "cell_type": "code",
   "execution_count": 172,
   "id": "ca2c218c",
   "metadata": {},
   "outputs": [],
   "source": [
    "r = name.count('R')"
   ]
  },
  {
   "cell_type": "code",
   "execution_count": 173,
   "id": "b80e3949",
   "metadata": {},
   "outputs": [],
   "source": [
    "u = name.count('U')"
   ]
  },
  {
   "cell_type": "code",
   "execution_count": 174,
   "id": "cbec1043",
   "metadata": {},
   "outputs": [],
   "source": [
    "e = name.count('E')"
   ]
  },
  {
   "cell_type": "code",
   "execution_count": 175,
   "id": "286c5370",
   "metadata": {},
   "outputs": [],
   "source": [
    "l = name.count('L')"
   ]
  },
  {
   "cell_type": "code",
   "execution_count": 176,
   "id": "7c808c3e",
   "metadata": {},
   "outputs": [],
   "source": [
    "o = name.count('O')"
   ]
  },
  {
   "cell_type": "code",
   "execution_count": 177,
   "id": "ac612634",
   "metadata": {},
   "outputs": [],
   "source": [
    "v = name.count('V')"
   ]
  },
  {
   "cell_type": "code",
   "execution_count": 178,
   "id": "6de5df61",
   "metadata": {},
   "outputs": [],
   "source": [
    "e = name.count('E')"
   ]
  },
  {
   "cell_type": "code",
   "execution_count": 179,
   "id": "4b8472a8",
   "metadata": {},
   "outputs": [],
   "source": [
    "true = int(t) + int(r) + int(u) + int(e)\n",
    "love = int(l) + int(o) + int(v) + int(e)\n",
    "chance = str(true) + str(love)\n",
    "chances = int(chance)"
   ]
  },
  {
   "cell_type": "code",
   "execution_count": 180,
   "id": "7dd39d1d",
   "metadata": {},
   "outputs": [
    {
     "name": "stdout",
     "output_type": "stream",
     "text": [
      "Your score 103%, you go together like coke and mentos\n"
     ]
    }
   ],
   "source": [
    "if chances > 50 and chances < 90:\n",
    "    print(f'Your score {chances}%, you are alright together')\n",
    "    \n",
    "elif chances < 10 or chances > 90:\n",
    "    print(f'Your score {chances}%, you go together like coke and mentos')\n",
    "\n",
    "else:\n",
    "    print(f'Your score {chances}%')"
   ]
  },
  {
   "cell_type": "code",
   "execution_count": null,
   "id": "e2e6a290",
   "metadata": {},
   "outputs": [],
   "source": []
  },
  {
   "cell_type": "code",
   "execution_count": null,
   "id": "510d9726",
   "metadata": {},
   "outputs": [],
   "source": []
  }
 ],
 "metadata": {
  "kernelspec": {
   "display_name": "Python 3 (ipykernel)",
   "language": "python",
   "name": "python3"
  },
  "language_info": {
   "codemirror_mode": {
    "name": "ipython",
    "version": 3
   },
   "file_extension": ".py",
   "mimetype": "text/x-python",
   "name": "python",
   "nbconvert_exporter": "python",
   "pygments_lexer": "ipython3",
   "version": "3.10.9"
  },
  "varInspector": {
   "cols": {
    "lenName": 16,
    "lenType": 16,
    "lenVar": 40
   },
   "kernels_config": {
    "python": {
     "delete_cmd_postfix": "",
     "delete_cmd_prefix": "del ",
     "library": "var_list.py",
     "varRefreshCmd": "print(var_dic_list())"
    },
    "r": {
     "delete_cmd_postfix": ") ",
     "delete_cmd_prefix": "rm(",
     "library": "var_list.r",
     "varRefreshCmd": "cat(var_dic_list()) "
    }
   },
   "types_to_exclude": [
    "module",
    "function",
    "builtin_function_or_method",
    "instance",
    "_Feature"
   ],
   "window_display": false
  }
 },
 "nbformat": 4,
 "nbformat_minor": 5
}
