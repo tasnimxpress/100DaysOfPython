{
 "cells": [
  {
   "cell_type": "markdown",
   "id": "d4f2e135",
   "metadata": {},
   "source": [
    "# Treasure island"
   ]
  },
  {
   "cell_type": "code",
   "execution_count": 1,
   "id": "fce86b39",
   "metadata": {},
   "outputs": [],
   "source": [
    "game_over = 'Game over.'"
   ]
  },
  {
   "cell_type": "code",
   "execution_count": 3,
   "id": "348ed6d5",
   "metadata": {},
   "outputs": [],
   "source": [
    "Right = 'You head confidently in the choosen direction, but suddenly, the ground gives way beneath you. You fall into a deep, dark hole, tumbling down into the abyss. Your adventure comes to a swift and unexpected end.' #game over"
   ]
  },
  {
   "cell_type": "code",
   "execution_count": 4,
   "id": "96ee6bc0",
   "metadata": {},
   "outputs": [],
   "source": [
    "Swim = 'You choose to swim, but a massive crocodile attacks!' #game over"
   ]
  },
  {
   "cell_type": "code",
   "execution_count": 5,
   "id": "a2a6a55f",
   "metadata": {},
   "outputs": [],
   "source": [
    "Red = \"You opened the red door and were greeted by a burst of flames. You've been burned!\" #game over"
   ]
  },
  {
   "cell_type": "code",
   "execution_count": 6,
   "id": "e12b46ce",
   "metadata": {},
   "outputs": [],
   "source": [
    "Blue = \"You opened the blue door and a group of fierce beasts lunged at you. You've been eaten by beasts.\" #game over"
   ]
  },
  {
   "cell_type": "code",
   "execution_count": 7,
   "id": "e0d55e35",
   "metadata": {},
   "outputs": [],
   "source": [
    "Yellow = 'Hooraay! You found the treasure box filled with precious gems. Congratulations, you win!' #win"
   ]
  },
  {
   "cell_type": "code",
   "execution_count": 18,
   "id": "3abe39a0",
   "metadata": {},
   "outputs": [
    {
     "name": "stdout",
     "output_type": "stream",
     "text": [
      "Welcome to Tresure Island.\n",
      "Your mission is to find the tresure.\n",
      "Type \"start\" to start your mission. ➡️start\n",
      "\n",
      "You are at a cross road. Where do you want to go? Type \"Left\" or \"Right\" ➡️ left\n",
      "\n",
      "you came to a lake. There is an island in the middle of the lake.\n",
      "Type \"wait\" to wait for a boat. Type \"swim\" to swim across the lake ➡️ wait\n",
      "\n",
      "You arrived at the island unharmed. \n",
      "There is a house with 3 doors. One \"red\", one \"blue\", one \"yellow\". \n",
      "Which door you want to enter? ➡️ yellow\n",
      "\n",
      "Hooraay! You found the treasure box filled with precious gems. Congratulations, you win!\n",
      "\n",
      "Interested to unbox the treasure box or do you want to open it later? \n",
      "Type \"open\" or \"Later\" ➡️ open\n",
      "💎💎💎💎💎💎💎💎💎💎💎💎💎💎💎💎💎💎💎💎💎💎\n"
     ]
    }
   ],
   "source": [
    "print('Welcome to Tresure Island.\\nYour mission is to find the tresure.')\n",
    "start = input('Type \"start\" to start your mission. ➡️').strip().capitalize()\n",
    "\n",
    "if start == 'Start':\n",
    "    path = input('\\nYou are at a cross road. Where do you want to go? Type \"Left\" or \"Right\" ➡️ ').strip().capitalize()\n",
    "    if path == 'Left':\n",
    "        at_lake = input('\\nyou came to a lake. There is an island in the middle of the lake.\\nType \"wait\" to wait for a boat. Type \"swim\" to swim across the lake ➡️ ').strip().capitalize()\n",
    "        if at_lake == 'Wait':\n",
    "            choose_door = input('\\nYou arrived at the island unharmed. \\nThere is a house with 3 doors. One \"red\", one \"blue\", one \"yellow\". \\nWhich door you want to enter? ➡️ ').strip().capitalize()\n",
    "            if choose_door == 'Yellow':\n",
    "                print(f\"\\n{Yellow}\")\n",
    "                unbox = input('\\nInterested to unbox the treasure box or do you want to open it later? \\nType \"open\" or \"Later\" ➡️ ').strip().capitalize()\n",
    "                if unbox == 'Open':\n",
    "                    print('💎💎💎💎💎💎💎💎💎💎💎💎💎💎💎💎💎💎💎💎💎💎')\n",
    "                elif unbox == 'Later':\n",
    "                    print('\\nAlright! but carefull. It can be robbed.')\n",
    "                else:\n",
    "                    print('\\nYou lost the treasure box. 📦')\n",
    "            elif choose_door == 'Red':\n",
    "                print(f\"\\n{Red} {game_over} 🔥\")\n",
    "            elif choose_door == 'Blue':\n",
    "                print(f\"\\n{Blue} {game_over} 🐻\")\n",
    "            else:\n",
    "                print(game_over + '🔥🔥🔥')\n",
    "        elif at_lake == 'Swim':\n",
    "            print(f\"\\n{Swim} {game_over} 🐊\")\n",
    "        else:\n",
    "            print(game_over + '🔥🔥🔥')\n",
    "    elif path == 'Right':\n",
    "        print(f'\\n{Right} {game_over} 🤕')\n",
    "    else:\n",
    "        print(f'\\n😵‍💫 Wrong direction. {game_over}')\n",
    "else:\n",
    "    print('\\nSorry to see you leave. 💎')"
   ]
  },
  {
   "cell_type": "markdown",
   "id": "37b50bbe",
   "metadata": {},
   "source": [
    "### Day 3 complete"
   ]
  }
 ],
 "metadata": {
  "kernelspec": {
   "display_name": "Python 3 (ipykernel)",
   "language": "python",
   "name": "python3"
  },
  "language_info": {
   "codemirror_mode": {
    "name": "ipython",
    "version": 3
   },
   "file_extension": ".py",
   "mimetype": "text/x-python",
   "name": "python",
   "nbconvert_exporter": "python",
   "pygments_lexer": "ipython3",
   "version": "3.10.9"
  },
  "varInspector": {
   "cols": {
    "lenName": 16,
    "lenType": 16,
    "lenVar": 40
   },
   "kernels_config": {
    "python": {
     "delete_cmd_postfix": "",
     "delete_cmd_prefix": "del ",
     "library": "var_list.py",
     "varRefreshCmd": "print(var_dic_list())"
    },
    "r": {
     "delete_cmd_postfix": ") ",
     "delete_cmd_prefix": "rm(",
     "library": "var_list.r",
     "varRefreshCmd": "cat(var_dic_list()) "
    }
   },
   "types_to_exclude": [
    "module",
    "function",
    "builtin_function_or_method",
    "instance",
    "_Feature"
   ],
   "window_display": false
  }
 },
 "nbformat": 4,
 "nbformat_minor": 5
}
