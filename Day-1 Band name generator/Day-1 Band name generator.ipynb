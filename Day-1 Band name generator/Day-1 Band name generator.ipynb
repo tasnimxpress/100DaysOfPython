{
 "cells": [
  {
   "cell_type": "markdown",
   "id": "aa39be6b",
   "metadata": {},
   "source": [
    "# Band name generator\n",
    "\n",
    "## based on city and pet name\n",
    "* take input from user asking city and pet name\n",
    "* concat the user input\n",
    "* print band name"
   ]
  },
  {
   "cell_type": "code",
   "execution_count": 2,
   "id": "b7e5f06e",
   "metadata": {},
   "outputs": [
    {
     "name": "stdout",
     "output_type": "stream",
     "text": [
      "Welcome to the band name generator.\n",
      "Where were you born? \n",
      "Bristol\n",
      "What is your pet name? \n",
      "Rabbit\n",
      "Your band name could be Bristol Rabbit\n"
     ]
    }
   ],
   "source": [
    "greeting = ('Welcome to the band name generator.')\n",
    "print(greeting)\n",
    "\n",
    "city = input(\"Where were you born? \\n\")\n",
    "pet = input(\"What is your pet name? \\n\")\n",
    "band_name = (city +\" \"+ pet)\n",
    "print('Your band name could be' +' '+band_name)"
   ]
  },
  {
   "cell_type": "markdown",
   "id": "f5038bc3",
   "metadata": {},
   "source": [
    "### Day 1 Complete."
   ]
  },
  {
   "cell_type": "markdown",
   "id": "20bfba5e",
   "metadata": {},
   "source": [
    "### Thanks. Keep it up."
   ]
  }
 ],
 "metadata": {
  "kernelspec": {
   "display_name": "Python 3 (ipykernel)",
   "language": "python",
   "name": "python3"
  },
  "language_info": {
   "codemirror_mode": {
    "name": "ipython",
    "version": 3
   },
   "file_extension": ".py",
   "mimetype": "text/x-python",
   "name": "python",
   "nbconvert_exporter": "python",
   "pygments_lexer": "ipython3",
   "version": "3.10.9"
  }
 },
 "nbformat": 4,
 "nbformat_minor": 5
}
