{
 "cells": [
  {
   "cell_type": "markdown",
   "id": "82c166b3",
   "metadata": {},
   "source": [
    "# Tip calculator\n",
    "* take input from user : \n",
    "    * total Bill, \n",
    "    * total people, \n",
    "    * tip percentage\n",
    "* print how much each person should pay.\n"
   ]
  },
  {
   "cell_type": "code",
   "execution_count": 1,
   "id": "76576286",
   "metadata": {},
   "outputs": [
    {
     "name": "stdout",
     "output_type": "stream",
     "text": [
      "Welcome to the tip calculator.\n"
     ]
    }
   ],
   "source": [
    "print('Welcome to the tip calculator.')"
   ]
  },
  {
   "cell_type": "code",
   "execution_count": 2,
   "id": "36b3d890",
   "metadata": {},
   "outputs": [
    {
     "name": "stdout",
     "output_type": "stream",
     "text": [
      "What is the total bill? 800\n"
     ]
    }
   ],
   "source": [
    "bill_1 = input('What is the total bill? ')\n",
    "bill_2 = bill_1.strip('$')\n",
    "total_bill = float(bill_2)"
   ]
  },
  {
   "cell_type": "code",
   "execution_count": 3,
   "id": "41b3d294",
   "metadata": {},
   "outputs": [
    {
     "name": "stdout",
     "output_type": "stream",
     "text": [
      "How many people to split the bill? 5\n"
     ]
    }
   ],
   "source": [
    "number_of_people = int(input('How many people to split the bill? '))"
   ]
  },
  {
   "cell_type": "code",
   "execution_count": 4,
   "id": "a8c7406f",
   "metadata": {},
   "outputs": [
    {
     "name": "stdout",
     "output_type": "stream",
     "text": [
      "what percentage tip would you like to give? 10\n"
     ]
    }
   ],
   "source": [
    "tip_1 = input('what percentage tip would you like to give? ')\n",
    "tip_2 = tip_1.strip('%')\n",
    "tip_percentage = float(tip_2)"
   ]
  },
  {
   "cell_type": "code",
   "execution_count": 9,
   "id": "a6a3c251",
   "metadata": {},
   "outputs": [],
   "source": [
    "tip = (tip_percentage * total_bill)/100"
   ]
  },
  {
   "cell_type": "raw",
   "id": "a2b4f92f",
   "metadata": {},
   "source": [
    "print(tip)"
   ]
  },
  {
   "cell_type": "code",
   "execution_count": 10,
   "id": "d5ebe8fc",
   "metadata": {},
   "outputs": [],
   "source": [
    "payable = total_bill + tip"
   ]
  },
  {
   "cell_type": "raw",
   "id": "5b0cf19d",
   "metadata": {},
   "source": [
    "print(payable)"
   ]
  },
  {
   "cell_type": "code",
   "execution_count": 11,
   "id": "03569ce9",
   "metadata": {},
   "outputs": [],
   "source": [
    "each_person = round((payable/number_of_people), 1)"
   ]
  },
  {
   "cell_type": "raw",
   "id": "0862a2e6",
   "metadata": {},
   "source": [
    "print(each_person)"
   ]
  },
  {
   "cell_type": "code",
   "execution_count": 12,
   "id": "c14672e8",
   "metadata": {},
   "outputs": [
    {
     "name": "stdout",
     "output_type": "stream",
     "text": [
      "Each person should pay: $176.0\n"
     ]
    }
   ],
   "source": [
    "print(f'Each person should pay: ${each_person}')"
   ]
  },
  {
   "cell_type": "markdown",
   "id": "9afb50ad",
   "metadata": {},
   "source": [
    "### Day 2 Complete."
   ]
  }
 ],
 "metadata": {
  "kernelspec": {
   "display_name": "Python 3 (ipykernel)",
   "language": "python",
   "name": "python3"
  },
  "language_info": {
   "codemirror_mode": {
    "name": "ipython",
    "version": 3
   },
   "file_extension": ".py",
   "mimetype": "text/x-python",
   "name": "python",
   "nbconvert_exporter": "python",
   "pygments_lexer": "ipython3",
   "version": "3.10.9"
  },
  "varInspector": {
   "cols": {
    "lenName": 16,
    "lenType": 16,
    "lenVar": 40
   },
   "kernels_config": {
    "python": {
     "delete_cmd_postfix": "",
     "delete_cmd_prefix": "del ",
     "library": "var_list.py",
     "varRefreshCmd": "print(var_dic_list())"
    },
    "r": {
     "delete_cmd_postfix": ") ",
     "delete_cmd_prefix": "rm(",
     "library": "var_list.r",
     "varRefreshCmd": "cat(var_dic_list()) "
    }
   },
   "position": {
    "height": "286.85px",
    "left": "1219.6px",
    "right": "20px",
    "top": "120px",
    "width": "296.4px"
   },
   "types_to_exclude": [
    "module",
    "function",
    "builtin_function_or_method",
    "instance",
    "_Feature"
   ],
   "window_display": false
  }
 },
 "nbformat": 4,
 "nbformat_minor": 5
}
