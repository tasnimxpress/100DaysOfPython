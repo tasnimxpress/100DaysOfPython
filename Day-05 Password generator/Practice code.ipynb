{
 "cells": [
  {
   "cell_type": "markdown",
   "id": "5d678e63",
   "metadata": {},
   "source": [
    "## Average"
   ]
  },
  {
   "cell_type": "code",
   "execution_count": null,
   "id": "f6bc0237",
   "metadata": {},
   "outputs": [],
   "source": [
    "heights = input(\"put all the heights separeted by comma: \").split(\", \")"
   ]
  },
  {
   "cell_type": "code",
   "execution_count": null,
   "id": "246a0501",
   "metadata": {},
   "outputs": [],
   "source": [
    "print(heights)"
   ]
  },
  {
   "cell_type": "markdown",
   "id": "5fcf572f",
   "metadata": {},
   "source": [
    "### 1st solution (using for loop)"
   ]
  },
  {
   "cell_type": "code",
   "execution_count": null,
   "id": "8a2358d7",
   "metadata": {},
   "outputs": [],
   "source": [
    "for n in range(0, len(heights)):\n",
    "    heights[n] = int(heights[n])\n",
    "print(heights)"
   ]
  },
  {
   "cell_type": "code",
   "execution_count": null,
   "id": "8d4bc524",
   "metadata": {},
   "outputs": [],
   "source": [
    "total_height = 0\n",
    "for height in heights:\n",
    "    total_height += height\n",
    "print(total_height)"
   ]
  },
  {
   "cell_type": "code",
   "execution_count": null,
   "id": "9ce1c3ce",
   "metadata": {},
   "outputs": [],
   "source": [
    "total_students = 0\n",
    "for student in heights:\n",
    "    total_students = total_students + 1\n",
    "print(total_students)\n",
    "    "
   ]
  },
  {
   "cell_type": "code",
   "execution_count": null,
   "id": "c25332e4",
   "metadata": {},
   "outputs": [],
   "source": [
    "average = round(total_height / total_students)"
   ]
  },
  {
   "cell_type": "code",
   "execution_count": null,
   "id": "0e7c6f00",
   "metadata": {},
   "outputs": [],
   "source": [
    "print(average)"
   ]
  },
  {
   "cell_type": "markdown",
   "id": "9a7e58f9",
   "metadata": {},
   "source": [
    "### 2nd solution (using function)"
   ]
  },
  {
   "cell_type": "code",
   "execution_count": null,
   "id": "a2b6d9c1",
   "metadata": {},
   "outputs": [],
   "source": [
    "total = sum(heights)\n",
    "average = round(total / (n+1))\n",
    "print(average)   "
   ]
  },
  {
   "cell_type": "markdown",
   "id": "a229f34a",
   "metadata": {},
   "source": [
    "## Highest score"
   ]
  },
  {
   "cell_type": "code",
   "execution_count": null,
   "id": "9de70857",
   "metadata": {},
   "outputs": [],
   "source": [
    "scores = input(\"scores: \").split(', ')"
   ]
  },
  {
   "cell_type": "code",
   "execution_count": null,
   "id": "8e02b302",
   "metadata": {},
   "outputs": [],
   "source": [
    "for i in range(0, len(scores)):\n",
    "    scores[i] = int(scores[i])\n",
    "print(scores)"
   ]
  },
  {
   "cell_type": "code",
   "execution_count": null,
   "id": "24b0bc85",
   "metadata": {},
   "outputs": [],
   "source": [
    "highest_score = 0\n",
    "for score in scores:\n",
    "    if score > highest_score:\n",
    "        highest_score = score\n",
    "print(highest_score)"
   ]
  },
  {
   "cell_type": "markdown",
   "id": "fa5faaf1",
   "metadata": {},
   "source": [
    "### with function"
   ]
  },
  {
   "cell_type": "code",
   "execution_count": null,
   "id": "5891df08",
   "metadata": {},
   "outputs": [],
   "source": [
    "highest_score = max(scores)"
   ]
  },
  {
   "cell_type": "code",
   "execution_count": null,
   "id": "0cfab28e",
   "metadata": {
    "scrolled": true
   },
   "outputs": [],
   "source": [
    "print(highest_score)"
   ]
  },
  {
   "cell_type": "markdown",
   "id": "9fc3aef2",
   "metadata": {},
   "source": [
    "## Adding even numbers"
   ]
  },
  {
   "cell_type": "code",
   "execution_count": 174,
   "id": "33777d58",
   "metadata": {},
   "outputs": [
    {
     "name": "stdout",
     "output_type": "stream",
     "text": [
      "2550\n"
     ]
    }
   ],
   "source": [
    "total = 0\n",
    "for number in range(1, 101):\n",
    "    if number%2 == 0:\n",
    "        total += number\n",
    "print(total)"
   ]
  },
  {
   "cell_type": "code",
   "execution_count": 176,
   "id": "b1bb246d",
   "metadata": {},
   "outputs": [
    {
     "name": "stdout",
     "output_type": "stream",
     "text": [
      "2550\n"
     ]
    }
   ],
   "source": [
    "total2 = 0\n",
    "for number in range(2, 101,  2):\n",
    "    #print(number)\n",
    "    total2 += number\n",
    "print(total)"
   ]
  },
  {
   "cell_type": "code",
   "execution_count": null,
   "id": "123de63b",
   "metadata": {},
   "outputs": [],
   "source": []
  },
  {
   "cell_type": "markdown",
   "id": "f12d126b",
   "metadata": {},
   "source": [
    "## FizzBuzz"
   ]
  },
  {
   "cell_type": "code",
   "execution_count": 22,
   "id": "671e40ff",
   "metadata": {},
   "outputs": [
    {
     "name": "stdout",
     "output_type": "stream",
     "text": [
      "1\n",
      "2\n",
      "Fizz\n",
      "4\n",
      "Buzz\n",
      "Fizz\n",
      "7\n",
      "8\n",
      "Fizz\n",
      "Buzz\n",
      "11\n",
      "Fizz\n",
      "13\n",
      "14\n",
      "FizzBuzz\n",
      "16\n",
      "17\n",
      "Fizz\n",
      "19\n",
      "Buzz\n",
      "Fizz\n",
      "22\n",
      "23\n",
      "Fizz\n",
      "Buzz\n",
      "26\n",
      "Fizz\n",
      "28\n",
      "29\n",
      "FizzBuzz\n",
      "31\n",
      "32\n",
      "Fizz\n",
      "34\n",
      "Buzz\n",
      "Fizz\n",
      "37\n",
      "38\n",
      "Fizz\n",
      "Buzz\n",
      "41\n",
      "Fizz\n",
      "43\n",
      "44\n",
      "FizzBuzz\n",
      "46\n",
      "47\n",
      "Fizz\n",
      "49\n",
      "Buzz\n",
      "Fizz\n",
      "52\n",
      "53\n",
      "Fizz\n",
      "Buzz\n",
      "56\n",
      "Fizz\n",
      "58\n",
      "59\n",
      "FizzBuzz\n",
      "61\n",
      "62\n",
      "Fizz\n",
      "64\n",
      "Buzz\n",
      "Fizz\n",
      "67\n",
      "68\n",
      "Fizz\n",
      "Buzz\n",
      "71\n",
      "Fizz\n",
      "73\n",
      "74\n",
      "FizzBuzz\n",
      "76\n",
      "77\n",
      "Fizz\n",
      "79\n",
      "Buzz\n",
      "Fizz\n",
      "82\n",
      "83\n",
      "Fizz\n",
      "Buzz\n",
      "86\n",
      "Fizz\n",
      "88\n",
      "89\n",
      "FizzBuzz\n",
      "91\n",
      "92\n",
      "Fizz\n",
      "94\n",
      "Buzz\n",
      "Fizz\n",
      "97\n",
      "98\n",
      "Fizz\n",
      "Buzz\n"
     ]
    }
   ],
   "source": [
    "for num in range(1, 101):\n",
    "\n",
    "    if (num % 3 == 0 and num % 5 == 0):\n",
    "        print('FizzBuzz')\n",
    "        \n",
    "    elif num % 3 == 0:\n",
    "        print('Fizz')  \n",
    "        \n",
    "    elif num % 5 == 0:\n",
    "        print('Buzz')      \n",
    "\n",
    "    else:\n",
    "        print(num)"
   ]
  }
 ],
 "metadata": {
  "kernelspec": {
   "display_name": "Python 3 (ipykernel)",
   "language": "python",
   "name": "python3"
  },
  "language_info": {
   "codemirror_mode": {
    "name": "ipython",
    "version": 3
   },
   "file_extension": ".py",
   "mimetype": "text/x-python",
   "name": "python",
   "nbconvert_exporter": "python",
   "pygments_lexer": "ipython3",
   "version": "3.10.9"
  },
  "varInspector": {
   "cols": {
    "lenName": 16,
    "lenType": 16,
    "lenVar": 40
   },
   "kernels_config": {
    "python": {
     "delete_cmd_postfix": "",
     "delete_cmd_prefix": "del ",
     "library": "var_list.py",
     "varRefreshCmd": "print(var_dic_list())"
    },
    "r": {
     "delete_cmd_postfix": ") ",
     "delete_cmd_prefix": "rm(",
     "library": "var_list.r",
     "varRefreshCmd": "cat(var_dic_list()) "
    }
   },
   "types_to_exclude": [
    "module",
    "function",
    "builtin_function_or_method",
    "instance",
    "_Feature"
   ],
   "window_display": false
  }
 },
 "nbformat": 4,
 "nbformat_minor": 5
}
