{
 "cells": [
  {
   "cell_type": "markdown",
   "id": "e62d8d38-0259-4a93-925c-1b9ee71942ec",
   "metadata": {},
   "source": [
    "# Series\n",
    "_a sequence of values with associated labels_\n",
    "* one dimensional\n",
    "* labeled arrays\n",
    "* any data type"
   ]
  },
  {
   "cell_type": "code",
   "execution_count": 10,
   "id": "5a74b606-ec26-44f1-919e-566c6b6c7ee8",
   "metadata": {},
   "outputs": [],
   "source": [
    "import pandas as pd"
   ]
  },
  {
   "cell_type": "markdown",
   "id": "23c2619f-9d60-4d39-952d-01ed23898bb8",
   "metadata": {},
   "source": [
    "### Check pandas version"
   ]
  },
  {
   "cell_type": "code",
   "execution_count": 12,
   "id": "b714782f-57bf-4bc8-a669-dd687107cfe6",
   "metadata": {
    "editable": true,
    "slideshow": {
     "slide_type": ""
    },
    "tags": []
   },
   "outputs": [
    {
     "data": {
      "text/plain": [
       "'2.2.2'"
      ]
     },
     "execution_count": 12,
     "metadata": {},
     "output_type": "execute_result"
    }
   ],
   "source": [
    "pd.__version__"
   ]
  },
  {
   "cell_type": "markdown",
   "id": "26fd41b9-b7f7-422f-8bf2-424f5a0de3a4",
   "metadata": {
    "editable": true,
    "slideshow": {
     "slide_type": ""
    },
    "tags": []
   },
   "source": [
    "### Python list to series"
   ]
  },
  {
   "cell_type": "markdown",
   "id": "0e441acd-bc01-4955-8174-67463a2a7cb1",
   "metadata": {},
   "source": [
    "python_list = [87, 45, 65, 97, 12, 35]"
   ]
  },
  {
   "cell_type": "code",
   "execution_count": 14,
   "id": "8ec7986a-9aed-46d4-9b33-eecc492c30c7",
   "metadata": {},
   "outputs": [
    {
     "data": {
      "text/plain": [
       "list"
      ]
     },
     "execution_count": 14,
     "metadata": {},
     "output_type": "execute_result"
    }
   ],
   "source": [
    "type(python_list)"
   ]
  },
  {
   "cell_type": "code",
   "execution_count": 30,
   "id": "e23e1453-ff5d-4cf9-81d8-862e9b2b4a0e",
   "metadata": {},
   "outputs": [],
   "source": [
    "to_series = pd.Series(python_list)"
   ]
  },
  {
   "cell_type": "code",
   "execution_count": 31,
   "id": "00c020ee-ac19-4b24-a6af-8f8500750c30",
   "metadata": {},
   "outputs": [
    {
     "data": {
      "text/plain": [
       "0    87\n",
       "1    45\n",
       "2    65\n",
       "3    97\n",
       "4    12\n",
       "5    35\n",
       "dtype: int64"
      ]
     },
     "execution_count": 31,
     "metadata": {},
     "output_type": "execute_result"
    }
   ],
   "source": [
    "to_series"
   ]
  },
  {
   "cell_type": "code",
   "execution_count": 16,
   "id": "e11040fb-a4f2-4b8b-9271-a2d2df473a79",
   "metadata": {},
   "outputs": [],
   "source": [
    "books = ['Fooled by randomness', 'The creative code', 'MathQBank']"
   ]
  },
  {
   "cell_type": "code",
   "execution_count": 32,
   "id": "4eac4cda-1b52-4f5b-8053-32589f0a1df8",
   "metadata": {},
   "outputs": [],
   "source": [
    "book_series = pd.Series(books)"
   ]
  },
  {
   "cell_type": "code",
   "execution_count": 33,
   "id": "8d296de3-ebb0-46e1-8ff4-2d12cd8fe4aa",
   "metadata": {},
   "outputs": [
    {
     "data": {
      "text/plain": [
       "0    Fooled by randomness\n",
       "1       The creative code\n",
       "2               MathQBank\n",
       "dtype: object"
      ]
     },
     "execution_count": 33,
     "metadata": {},
     "output_type": "execute_result"
    }
   ],
   "source": [
    "book_series"
   ]
  },
  {
   "cell_type": "code",
   "execution_count": 18,
   "id": "677a889c-9f2f-43dc-b40a-a36452b346aa",
   "metadata": {},
   "outputs": [],
   "source": [
    "price = [12, 8, 7]"
   ]
  },
  {
   "cell_type": "code",
   "execution_count": 34,
   "id": "6d2a9397-3723-4734-927c-70463ef998f5",
   "metadata": {},
   "outputs": [],
   "source": [
    "price_int_series = pd.Series(price)"
   ]
  },
  {
   "cell_type": "code",
   "execution_count": 35,
   "id": "42603b54-8b0a-4afa-95d2-5447fb83d245",
   "metadata": {},
   "outputs": [
    {
     "data": {
      "text/plain": [
       "0    12\n",
       "1     8\n",
       "2     7\n",
       "dtype: int64"
      ]
     },
     "execution_count": 35,
     "metadata": {},
     "output_type": "execute_result"
    }
   ],
   "source": [
    "price_int_series"
   ]
  },
  {
   "cell_type": "markdown",
   "id": "b8ef55b6-fa94-46a4-a0ea-b1545e958c65",
   "metadata": {},
   "source": [
    "### Support mix data type"
   ]
  },
  {
   "cell_type": "code",
   "execution_count": 36,
   "id": "5674c32d-a3f9-405b-a5d6-c017419c0961",
   "metadata": {},
   "outputs": [],
   "source": [
    "book_and_price = [books, price]"
   ]
  },
  {
   "cell_type": "code",
   "execution_count": 37,
   "id": "3021edb6-2a3a-46a6-a04a-23d243eb1d63",
   "metadata": {},
   "outputs": [],
   "source": [
    "book_and_price_series = pd.Series(book_and_price)"
   ]
  },
  {
   "cell_type": "code",
   "execution_count": 38,
   "id": "481a672a-c0cb-4a23-9158-e85264e87dbb",
   "metadata": {},
   "outputs": [
    {
     "data": {
      "text/plain": [
       "0    [Fooled by randomness, The creative code, Math...\n",
       "1                                           [12, 8, 7]\n",
       "dtype: object"
      ]
     },
     "execution_count": 38,
     "metadata": {},
     "output_type": "execute_result"
    }
   ],
   "source": [
    "book_and_price_series"
   ]
  },
  {
   "cell_type": "markdown",
   "id": "72aa4d44-94a4-4328-980b-41288531f0e0",
   "metadata": {},
   "source": [
    "### Series form Python dictionary"
   ]
  },
  {
   "cell_type": "code",
   "execution_count": 23,
   "id": "e02cfcef-5bf1-42d0-8170-28121f9984be",
   "metadata": {},
   "outputs": [],
   "source": [
    "books_dict = {'Fooled by randomness': 12,\n",
    "              'The creative code': 8, \n",
    "              'MathQBank': 7}"
   ]
  },
  {
   "cell_type": "code",
   "execution_count": 39,
   "id": "f96ddb29-0da9-470a-900f-12cb52317738",
   "metadata": {},
   "outputs": [],
   "source": [
    "books_dict_to_series = pd.Series(books_dict)"
   ]
  },
  {
   "cell_type": "code",
   "execution_count": 40,
   "id": "6e7b2447-748a-43fb-a825-2f9ce4743a33",
   "metadata": {},
   "outputs": [
    {
     "data": {
      "text/plain": [
       "Fooled by randomness    12\n",
       "The creative code        8\n",
       "MathQBank                7\n",
       "dtype: int64"
      ]
     },
     "execution_count": 40,
     "metadata": {},
     "output_type": "execute_result"
    }
   ],
   "source": [
    "books_dict_to_series"
   ]
  },
  {
   "cell_type": "markdown",
   "id": "1f6772de-d486-4d61-94d6-997d29b574d9",
   "metadata": {},
   "source": [
    "### specify data type\n",
    "* dtype='type'\n",
    "* strings are always object"
   ]
  },
  {
   "cell_type": "code",
   "execution_count": 41,
   "id": "bd7d0cda-b15b-403f-9220-3c4900aa62b3",
   "metadata": {},
   "outputs": [
    {
     "data": {
      "text/plain": [
       "0    12\n",
       "1     8\n",
       "2     7\n",
       "dtype: int64"
      ]
     },
     "execution_count": 41,
     "metadata": {},
     "output_type": "execute_result"
    }
   ],
   "source": [
    "price_int_series"
   ]
  },
  {
   "cell_type": "code",
   "execution_count": 43,
   "id": "baf74589-8187-4775-a3e6-8d6cc2139231",
   "metadata": {},
   "outputs": [],
   "source": [
    "int_to_float = pd.Series(price_int_series, dtype='float')"
   ]
  },
  {
   "cell_type": "code",
   "execution_count": 44,
   "id": "50e74b5b-7cef-4d25-8cf2-0c73483f0185",
   "metadata": {},
   "outputs": [
    {
     "data": {
      "text/plain": [
       "0    12.0\n",
       "1     8.0\n",
       "2     7.0\n",
       "dtype: float64"
      ]
     },
     "execution_count": 44,
     "metadata": {},
     "output_type": "execute_result"
    }
   ],
   "source": [
    "int_to_float"
   ]
  },
  {
   "cell_type": "markdown",
   "id": "98521b64-df9b-41d1-b672-274bbd383956",
   "metadata": {},
   "source": [
    "### dtype('0')\n",
    "* dtype('O') means Pandas string\n",
    "* 'O' stands for object"
   ]
  },
  {
   "cell_type": "code",
   "execution_count": 45,
   "id": "47bb14c5-71a4-44dd-ae57-a5257f46e51d",
   "metadata": {
    "scrolled": true
   },
   "outputs": [
    {
     "data": {
      "text/plain": [
       "0    Fooled by randomness\n",
       "1       The creative code\n",
       "2               MathQBank\n",
       "dtype: object"
      ]
     },
     "execution_count": 45,
     "metadata": {},
     "output_type": "execute_result"
    }
   ],
   "source": [
    "book_series"
   ]
  },
  {
   "cell_type": "code",
   "execution_count": 46,
   "id": "6a84b7bb-8055-4b0a-b4a5-9704094d214e",
   "metadata": {
    "scrolled": true
   },
   "outputs": [
    {
     "data": {
      "text/plain": [
       "dtype('O')"
      ]
     },
     "execution_count": 46,
     "metadata": {},
     "output_type": "execute_result"
    }
   ],
   "source": [
    "book_series.dtype"
   ]
  },
  {
   "cell_type": "code",
   "execution_count": null,
   "id": "7aa97ab3-f67e-44ca-a553-c80437a37708",
   "metadata": {},
   "outputs": [],
   "source": []
  }
 ],
 "metadata": {
  "kernelspec": {
   "display_name": "Python 3 (ipykernel)",
   "language": "python",
   "name": "python3"
  },
  "language_info": {
   "codemirror_mode": {
    "name": "ipython",
    "version": 3
   },
   "file_extension": ".py",
   "mimetype": "text/x-python",
   "name": "python",
   "nbconvert_exporter": "python",
   "pygments_lexer": "ipython3",
   "version": "3.12.3"
  }
 },
 "nbformat": 4,
 "nbformat_minor": 5
}
