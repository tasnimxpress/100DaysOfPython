{
 "cells": [
  {
   "cell_type": "markdown",
   "id": "e62d8d38-0259-4a93-925c-1b9ee71942ec",
   "metadata": {},
   "source": [
    "# Series\n",
    "_a sequence of values with associated labels_\n",
    "* one dimensional\n",
    "* labeled arrays\n",
    "* any data type"
   ]
  },
  {
   "cell_type": "code",
   "execution_count": 3,
   "id": "5a74b606-ec26-44f1-919e-566c6b6c7ee8",
   "metadata": {},
   "outputs": [],
   "source": [
    "import pandas as pd"
   ]
  },
  {
   "cell_type": "markdown",
   "id": "23c2619f-9d60-4d39-952d-01ed23898bb8",
   "metadata": {},
   "source": [
    "### Check pandas version"
   ]
  },
  {
   "cell_type": "code",
   "execution_count": 4,
   "id": "b714782f-57bf-4bc8-a669-dd687107cfe6",
   "metadata": {
    "editable": true,
    "slideshow": {
     "slide_type": ""
    },
    "tags": []
   },
   "outputs": [
    {
     "data": {
      "text/plain": [
       "'2.2.2'"
      ]
     },
     "execution_count": 4,
     "metadata": {},
     "output_type": "execute_result"
    }
   ],
   "source": [
    "pd.__version__"
   ]
  },
  {
   "cell_type": "markdown",
   "id": "26fd41b9-b7f7-422f-8bf2-424f5a0de3a4",
   "metadata": {
    "editable": true,
    "slideshow": {
     "slide_type": ""
    },
    "tags": []
   },
   "source": [
    "### Python list to series"
   ]
  },
  {
   "cell_type": "code",
   "execution_count": 8,
   "id": "781674cd-fdb8-4c76-8cec-fb338875a95a",
   "metadata": {},
   "outputs": [],
   "source": [
    "python_list = [87, 45, 65, 97, 12, 35]"
   ]
  },
  {
   "cell_type": "code",
   "execution_count": 9,
   "id": "8ec7986a-9aed-46d4-9b33-eecc492c30c7",
   "metadata": {},
   "outputs": [
    {
     "data": {
      "text/plain": [
       "list"
      ]
     },
     "execution_count": 9,
     "metadata": {},
     "output_type": "execute_result"
    }
   ],
   "source": [
    "type(python_list)"
   ]
  },
  {
   "cell_type": "code",
   "execution_count": 10,
   "id": "e23e1453-ff5d-4cf9-81d8-862e9b2b4a0e",
   "metadata": {},
   "outputs": [],
   "source": [
    "to_series = pd.Series(python_list)"
   ]
  },
  {
   "cell_type": "code",
   "execution_count": 11,
   "id": "00c020ee-ac19-4b24-a6af-8f8500750c30",
   "metadata": {},
   "outputs": [
    {
     "data": {
      "text/plain": [
       "0    87\n",
       "1    45\n",
       "2    65\n",
       "3    97\n",
       "4    12\n",
       "5    35\n",
       "dtype: int64"
      ]
     },
     "execution_count": 11,
     "metadata": {},
     "output_type": "execute_result"
    }
   ],
   "source": [
    "to_series"
   ]
  },
  {
   "cell_type": "code",
   "execution_count": 12,
   "id": "e11040fb-a4f2-4b8b-9271-a2d2df473a79",
   "metadata": {},
   "outputs": [],
   "source": [
    "books = ['Fooled by randomness', 'The creative code', 'MathQBank']"
   ]
  },
  {
   "cell_type": "code",
   "execution_count": 13,
   "id": "4eac4cda-1b52-4f5b-8053-32589f0a1df8",
   "metadata": {},
   "outputs": [],
   "source": [
    "book_series = pd.Series(books)"
   ]
  },
  {
   "cell_type": "code",
   "execution_count": 14,
   "id": "8d296de3-ebb0-46e1-8ff4-2d12cd8fe4aa",
   "metadata": {},
   "outputs": [
    {
     "data": {
      "text/plain": [
       "0    Fooled by randomness\n",
       "1       The creative code\n",
       "2               MathQBank\n",
       "dtype: object"
      ]
     },
     "execution_count": 14,
     "metadata": {},
     "output_type": "execute_result"
    }
   ],
   "source": [
    "book_series"
   ]
  },
  {
   "cell_type": "code",
   "execution_count": 15,
   "id": "677a889c-9f2f-43dc-b40a-a36452b346aa",
   "metadata": {},
   "outputs": [],
   "source": [
    "price = [12, 8, 7]"
   ]
  },
  {
   "cell_type": "code",
   "execution_count": 16,
   "id": "6d2a9397-3723-4734-927c-70463ef998f5",
   "metadata": {},
   "outputs": [],
   "source": [
    "price_int_series = pd.Series(price)"
   ]
  },
  {
   "cell_type": "code",
   "execution_count": 17,
   "id": "42603b54-8b0a-4afa-95d2-5447fb83d245",
   "metadata": {},
   "outputs": [
    {
     "data": {
      "text/plain": [
       "0    12\n",
       "1     8\n",
       "2     7\n",
       "dtype: int64"
      ]
     },
     "execution_count": 17,
     "metadata": {},
     "output_type": "execute_result"
    }
   ],
   "source": [
    "price_int_series"
   ]
  },
  {
   "cell_type": "markdown",
   "id": "b8ef55b6-fa94-46a4-a0ea-b1545e958c65",
   "metadata": {},
   "source": [
    "### Support mix data type"
   ]
  },
  {
   "cell_type": "code",
   "execution_count": 18,
   "id": "5674c32d-a3f9-405b-a5d6-c017419c0961",
   "metadata": {},
   "outputs": [],
   "source": [
    "book_and_price = [books, price]"
   ]
  },
  {
   "cell_type": "code",
   "execution_count": 19,
   "id": "3021edb6-2a3a-46a6-a04a-23d243eb1d63",
   "metadata": {},
   "outputs": [],
   "source": [
    "book_and_price_series = pd.Series(book_and_price)"
   ]
  },
  {
   "cell_type": "code",
   "execution_count": 20,
   "id": "481a672a-c0cb-4a23-9158-e85264e87dbb",
   "metadata": {},
   "outputs": [
    {
     "data": {
      "text/plain": [
       "0    [Fooled by randomness, The creative code, Math...\n",
       "1                                           [12, 8, 7]\n",
       "dtype: object"
      ]
     },
     "execution_count": 20,
     "metadata": {},
     "output_type": "execute_result"
    }
   ],
   "source": [
    "book_and_price_series"
   ]
  },
  {
   "cell_type": "markdown",
   "id": "72aa4d44-94a4-4328-980b-41288531f0e0",
   "metadata": {},
   "source": [
    "### Series form Python dictionary"
   ]
  },
  {
   "cell_type": "code",
   "execution_count": 21,
   "id": "e02cfcef-5bf1-42d0-8170-28121f9984be",
   "metadata": {},
   "outputs": [],
   "source": [
    "books_dict = {'Fooled by randomness': 12,\n",
    "              'The creative code': 8, \n",
    "              'MathQBank': 7}"
   ]
  },
  {
   "cell_type": "code",
   "execution_count": 22,
   "id": "f96ddb29-0da9-470a-900f-12cb52317738",
   "metadata": {},
   "outputs": [],
   "source": [
    "books_dict_to_series = pd.Series(books_dict)"
   ]
  },
  {
   "cell_type": "code",
   "execution_count": 23,
   "id": "6e7b2447-748a-43fb-a825-2f9ce4743a33",
   "metadata": {},
   "outputs": [
    {
     "data": {
      "text/plain": [
       "Fooled by randomness    12\n",
       "The creative code        8\n",
       "MathQBank                7\n",
       "dtype: int64"
      ]
     },
     "execution_count": 23,
     "metadata": {},
     "output_type": "execute_result"
    }
   ],
   "source": [
    "books_dict_to_series"
   ]
  },
  {
   "cell_type": "markdown",
   "id": "1f6772de-d486-4d61-94d6-997d29b574d9",
   "metadata": {},
   "source": [
    "### specify data type\n",
    "* dtype='type'\n",
    "* strings are always object"
   ]
  },
  {
   "cell_type": "code",
   "execution_count": 24,
   "id": "bd7d0cda-b15b-403f-9220-3c4900aa62b3",
   "metadata": {},
   "outputs": [
    {
     "data": {
      "text/plain": [
       "0    12\n",
       "1     8\n",
       "2     7\n",
       "dtype: int64"
      ]
     },
     "execution_count": 24,
     "metadata": {},
     "output_type": "execute_result"
    }
   ],
   "source": [
    "price_int_series"
   ]
  },
  {
   "cell_type": "code",
   "execution_count": 25,
   "id": "baf74589-8187-4775-a3e6-8d6cc2139231",
   "metadata": {},
   "outputs": [],
   "source": [
    "int_to_float = pd.Series(price_int_series, dtype='float')"
   ]
  },
  {
   "cell_type": "code",
   "execution_count": 26,
   "id": "50e74b5b-7cef-4d25-8cf2-0c73483f0185",
   "metadata": {},
   "outputs": [
    {
     "data": {
      "text/plain": [
       "0    12.0\n",
       "1     8.0\n",
       "2     7.0\n",
       "dtype: float64"
      ]
     },
     "execution_count": 26,
     "metadata": {},
     "output_type": "execute_result"
    }
   ],
   "source": [
    "int_to_float"
   ]
  },
  {
   "cell_type": "markdown",
   "id": "98521b64-df9b-41d1-b672-274bbd383956",
   "metadata": {},
   "source": [
    "### dtype('0')\n",
    "* dtype('O') means Pandas string\n",
    "* 'O' stands for object"
   ]
  },
  {
   "cell_type": "code",
   "execution_count": 27,
   "id": "47bb14c5-71a4-44dd-ae57-a5257f46e51d",
   "metadata": {
    "scrolled": true
   },
   "outputs": [
    {
     "data": {
      "text/plain": [
       "0    Fooled by randomness\n",
       "1       The creative code\n",
       "2               MathQBank\n",
       "dtype: object"
      ]
     },
     "execution_count": 27,
     "metadata": {},
     "output_type": "execute_result"
    }
   ],
   "source": [
    "book_series"
   ]
  },
  {
   "cell_type": "code",
   "execution_count": 28,
   "id": "6a84b7bb-8055-4b0a-b4a5-9704094d214e",
   "metadata": {
    "scrolled": true
   },
   "outputs": [
    {
     "data": {
      "text/plain": [
       "dtype('O')"
      ]
     },
     "execution_count": 28,
     "metadata": {},
     "output_type": "execute_result"
    }
   ],
   "source": [
    "book_series.dtype"
   ]
  },
  {
   "cell_type": "markdown",
   "id": "94297cdb-c4fa-4e41-87c4-6dbdbe4a325d",
   "metadata": {},
   "source": [
    "## Index"
   ]
  },
  {
   "cell_type": "markdown",
   "id": "71cd8fcf-800d-42aa-941e-6a246df52843",
   "metadata": {},
   "source": [
    " * custom index"
   ]
  },
  {
   "cell_type": "code",
   "execution_count": 31,
   "id": "286dc325-2909-493b-b25b-fc97e8a557cf",
   "metadata": {},
   "outputs": [
    {
     "data": {
      "text/plain": [
       "B1    Fooled by randomness\n",
       "B2       The creative code\n",
       "B3               MathQBank\n",
       "dtype: object"
      ]
     },
     "execution_count": 31,
     "metadata": {},
     "output_type": "execute_result"
    }
   ],
   "source": [
    "pd.Series(data=books, index=['B1','B2','B3'])"
   ]
  },
  {
   "cell_type": "code",
   "execution_count": 36,
   "id": "53a7c552-6b7d-4c79-88b1-cf8d89f1a853",
   "metadata": {},
   "outputs": [
    {
     "data": {
      "text/plain": [
       "RangeIndex(start=0, stop=3, step=1)"
      ]
     },
     "execution_count": 36,
     "metadata": {},
     "output_type": "execute_result"
    }
   ],
   "source": [
    "book_series.index"
   ]
  },
  {
   "cell_type": "code",
   "execution_count": 38,
   "id": "aa947180-3fd5-44f1-abb2-20df8c24d877",
   "metadata": {},
   "outputs": [
    {
     "data": {
      "text/plain": [
       "<function list.index(value, start=0, stop=9223372036854775807, /)>"
      ]
     },
     "execution_count": 38,
     "metadata": {},
     "output_type": "execute_result"
    }
   ],
   "source": [
    "books.index"
   ]
  },
  {
   "cell_type": "markdown",
   "id": "836e7717-9b7d-450a-b882-d4667fe4b4ed",
   "metadata": {},
   "source": [
    "## name attribute"
   ]
  },
  {
   "cell_type": "code",
   "execution_count": 39,
   "id": "bcc6faaf-7cd1-4a64-ba98-64133e9b29dc",
   "metadata": {},
   "outputs": [],
   "source": [
    "book_series.name"
   ]
  },
  {
   "cell_type": "markdown",
   "id": "12576f74-6314-4eb3-9036-fad63be1ba03",
   "metadata": {},
   "source": [
    "#### nothing back, we can verify it using boolean"
   ]
  },
  {
   "cell_type": "code",
   "execution_count": 41,
   "id": "782f9f3a-55fe-4b66-a660-a0f9eb70839f",
   "metadata": {},
   "outputs": [
    {
     "data": {
      "text/plain": [
       "True"
      ]
     },
     "execution_count": 41,
     "metadata": {},
     "output_type": "execute_result"
    }
   ],
   "source": [
    "book_series.name == None"
   ]
  },
  {
   "cell_type": "markdown",
   "id": "f008bd4a-7dfb-4eaa-b2f8-dbebbfabddc1",
   "metadata": {},
   "source": [
    "#### lets give it a name"
   ]
  },
  {
   "cell_type": "code",
   "execution_count": 42,
   "id": "a866f84a-2320-44e6-8720-c9fceb89431b",
   "metadata": {},
   "outputs": [],
   "source": [
    "book_series.name = 'book_list'"
   ]
  },
  {
   "cell_type": "code",
   "execution_count": 43,
   "id": "d1fc43dc-594e-4a68-b4fd-bc0621b67e8d",
   "metadata": {},
   "outputs": [
    {
     "data": {
      "text/plain": [
       "0    Fooled by randomness\n",
       "1       The creative code\n",
       "2               MathQBank\n",
       "Name: book_list, dtype: object"
      ]
     },
     "execution_count": 43,
     "metadata": {},
     "output_type": "execute_result"
    }
   ],
   "source": [
    "book_series"
   ]
  },
  {
   "cell_type": "markdown",
   "id": "751c2ac1-4721-4eec-8449-03f227a1ab49",
   "metadata": {},
   "source": [
    "#### series name becomes column name in dataframe"
   ]
  },
  {
   "cell_type": "markdown",
   "id": "096bcf1f-4b1e-43ab-b0bf-21e970745718",
   "metadata": {},
   "source": [
    "#### index can also have name"
   ]
  },
  {
   "cell_type": "code",
   "execution_count": 44,
   "id": "7691c373-f238-4e47-94d2-88486ecabe7b",
   "metadata": {},
   "outputs": [],
   "source": [
    "book_series.index.name"
   ]
  },
  {
   "cell_type": "code",
   "execution_count": 45,
   "id": "b09ce4c3-246a-484e-a12a-103c273035d5",
   "metadata": {},
   "outputs": [
    {
     "data": {
      "text/plain": [
       "True"
      ]
     },
     "execution_count": 45,
     "metadata": {},
     "output_type": "execute_result"
    }
   ],
   "source": [
    "book_series.index.name == None"
   ]
  },
  {
   "cell_type": "code",
   "execution_count": 46,
   "id": "5684184f-d226-4098-a9a5-27d4c6248b5c",
   "metadata": {},
   "outputs": [],
   "source": [
    "book_series.index.name = 'Index_number'"
   ]
  },
  {
   "cell_type": "code",
   "execution_count": 47,
   "id": "1f577634-911a-4422-8f8c-1061117a03f4",
   "metadata": {},
   "outputs": [
    {
     "data": {
      "text/plain": [
       "Index_number\n",
       "0    Fooled by randomness\n",
       "1       The creative code\n",
       "2               MathQBank\n",
       "Name: book_list, dtype: object"
      ]
     },
     "execution_count": 47,
     "metadata": {},
     "output_type": "execute_result"
    }
   ],
   "source": [
    "book_series"
   ]
  },
  {
   "cell_type": "markdown",
   "id": "e2ef0574-4e00-4057-83c9-c3a44a0f6507",
   "metadata": {},
   "source": [
    "### Exercise"
   ]
  },
  {
   "cell_type": "code",
   "execution_count": 52,
   "id": "2f70054c-9ef2-4bae-9ee6-1dc2e8b74f77",
   "metadata": {},
   "outputs": [],
   "source": [
    "actor_name = ['actor_a', 'actor_b', 'actor_c', 'actor_d']"
   ]
  },
  {
   "cell_type": "code",
   "execution_count": 53,
   "id": "bab392af-9c76-4fa8-880b-0dacb633614a",
   "metadata": {},
   "outputs": [],
   "source": [
    "actor_age = [34, 40.5, 67, 25.7]"
   ]
  },
  {
   "cell_type": "code",
   "execution_count": 107,
   "id": "69306086-7e20-46a1-8314-9867e67fcd73",
   "metadata": {},
   "outputs": [],
   "source": [
    "actors = pd.Series(actor_age, index=actor_name, name='actors_age')"
   ]
  },
  {
   "cell_type": "code",
   "execution_count": 108,
   "id": "88d3ff12-7bc0-4f4e-8b41-0d63cac3fdb8",
   "metadata": {},
   "outputs": [
    {
     "data": {
      "text/plain": [
       "actor_a    34.0\n",
       "actor_b    40.5\n",
       "actor_c    67.0\n",
       "actor_d    25.7\n",
       "Name: actors_age, dtype: float64"
      ]
     },
     "execution_count": 108,
     "metadata": {},
     "output_type": "execute_result"
    }
   ],
   "source": [
    "actors"
   ]
  },
  {
   "cell_type": "code",
   "execution_count": 65,
   "id": "d913e62e-6a0d-4f5d-924b-3ec94a2d13cf",
   "metadata": {},
   "outputs": [],
   "source": [
    "actors.name = \"actors_age\""
   ]
  },
  {
   "cell_type": "code",
   "execution_count": 109,
   "id": "2a5f7d4f-3493-499b-a4d7-73e97ff31d92",
   "metadata": {},
   "outputs": [],
   "source": [
    "actors.index.name = 'name'"
   ]
  },
  {
   "cell_type": "code",
   "execution_count": 110,
   "id": "85063b67-255a-4426-96e2-745965d08a4a",
   "metadata": {},
   "outputs": [
    {
     "data": {
      "text/plain": [
       "name\n",
       "actor_a    34.0\n",
       "actor_b    40.5\n",
       "actor_c    67.0\n",
       "actor_d    25.7\n",
       "Name: actors_age, dtype: float64"
      ]
     },
     "execution_count": 110,
     "metadata": {},
     "output_type": "execute_result"
    }
   ],
   "source": [
    "actors"
   ]
  },
  {
   "cell_type": "markdown",
   "id": "ab3e9b28-3f1c-45aa-9556-a3d17d4bfafd",
   "metadata": {},
   "source": [
    "### create dictionary form list"
   ]
  },
  {
   "cell_type": "code",
   "execution_count": 99,
   "id": "06f39d94-e3cc-4396-9772-17f0972875f2",
   "metadata": {},
   "outputs": [
    {
     "data": {
      "text/plain": [
       "{'actor_a': 34, 'actor_b': 40.5, 'actor_c': 67, 'actor_d': 25.7}"
      ]
     },
     "execution_count": 99,
     "metadata": {},
     "output_type": "execute_result"
    }
   ],
   "source": [
    "# actor_name: actor_age\n",
    "actor_dict = dict(zip(actor_name, actor_age))\n",
    "    \n",
    "actor_dict"
   ]
  },
  {
   "cell_type": "code",
   "execution_count": 101,
   "id": "dca05112-c212-4427-b6e2-00576f849ce5",
   "metadata": {},
   "outputs": [],
   "source": [
    "actorseriesfromdict = pd.Series(actor_dict)"
   ]
  },
  {
   "cell_type": "code",
   "execution_count": 102,
   "id": "bd5e341a-c19f-432b-a06c-111889e7d7e0",
   "metadata": {},
   "outputs": [
    {
     "data": {
      "text/plain": [
       "actor_a    34.0\n",
       "actor_b    40.5\n",
       "actor_c    67.0\n",
       "actor_d    25.7\n",
       "dtype: float64"
      ]
     },
     "execution_count": 102,
     "metadata": {},
     "output_type": "execute_result"
    }
   ],
   "source": [
    "actorseriesfromdict"
   ]
  },
  {
   "cell_type": "code",
   "execution_count": 103,
   "id": "4f9ae6a2-de9d-45a9-a2a5-000992e7b7d3",
   "metadata": {},
   "outputs": [],
   "source": [
    "actorseriesfromdict.name = 'actor'"
   ]
  },
  {
   "cell_type": "code",
   "execution_count": 104,
   "id": "eba1a261-2b03-4182-8874-6edc66716a8f",
   "metadata": {},
   "outputs": [],
   "source": [
    "actorseriesfromdict.index.name = 'actor name'"
   ]
  },
  {
   "cell_type": "code",
   "execution_count": 105,
   "id": "b2b09587-c727-4602-8114-faa62f35a415",
   "metadata": {},
   "outputs": [
    {
     "data": {
      "text/plain": [
       "actor name\n",
       "actor_a    34.0\n",
       "actor_b    40.5\n",
       "actor_c    67.0\n",
       "actor_d    25.7\n",
       "Name: actor, dtype: float64"
      ]
     },
     "execution_count": 105,
     "metadata": {},
     "output_type": "execute_result"
    }
   ],
   "source": [
    "actorseriesfromdict"
   ]
  },
  {
   "cell_type": "markdown",
   "id": "8eb1252a-c22b-42dd-a910-5dff64951c92",
   "metadata": {},
   "source": [
    "### dictionary comprehension"
   ]
  },
  {
   "cell_type": "code",
   "execution_count": 112,
   "id": "028545ab-5460-41a2-8a94-144258928132",
   "metadata": {},
   "outputs": [
    {
     "data": {
      "text/plain": [
       "{'actor_a': 34, 'actor_b': 40.5, 'actor_c': 67, 'actor_d': 25.7}"
      ]
     },
     "execution_count": 112,
     "metadata": {},
     "output_type": "execute_result"
    }
   ],
   "source": [
    "{name:age for name,age in zip(actor_name, actor_age)}"
   ]
  },
  {
   "cell_type": "code",
   "execution_count": 113,
   "id": "3e168243-77c5-481e-992c-2da2214f9939",
   "metadata": {},
   "outputs": [
    {
     "data": {
      "text/plain": [
       "actor_a    34.0\n",
       "actor_b    40.5\n",
       "actor_c    67.0\n",
       "actor_d    25.7\n",
       "dtype: float64"
      ]
     },
     "execution_count": 113,
     "metadata": {},
     "output_type": "execute_result"
    }
   ],
   "source": [
    "pd.Series({name:age for name,age in zip(actor_name, actor_age)})"
   ]
  },
  {
   "cell_type": "code",
   "execution_count": null,
   "id": "124aa1d3-6675-42f8-8b45-b47929c5bb01",
   "metadata": {},
   "outputs": [],
   "source": []
  }
 ],
 "metadata": {
  "kernelspec": {
   "display_name": "Python 3 (ipykernel)",
   "language": "python",
   "name": "python3"
  },
  "language_info": {
   "codemirror_mode": {
    "name": "ipython",
    "version": 3
   },
   "file_extension": ".py",
   "mimetype": "text/x-python",
   "name": "python",
   "nbconvert_exporter": "python",
   "pygments_lexer": "ipython3",
   "version": "3.12.3"
  }
 },
 "nbformat": 4,
 "nbformat_minor": 5
}
