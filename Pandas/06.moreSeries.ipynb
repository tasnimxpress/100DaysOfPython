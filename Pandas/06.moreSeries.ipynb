{
 "cells": [
  {
   "cell_type": "markdown",
   "metadata": {},
   "source": [
    "# Pandas"
   ]
  },
  {
   "cell_type": "code",
   "execution_count": 1,
   "metadata": {},
   "outputs": [],
   "source": [
    "import pandas as pd"
   ]
  },
  {
   "cell_type": "code",
   "execution_count": 2,
   "metadata": {},
   "outputs": [
    {
     "data": {
      "text/plain": [
       "country\n",
       "Afghanistan      NaN\n",
       "Albania         54.0\n",
       "Algeria         14.0\n",
       "Andorra        312.0\n",
       "Angola          45.0\n",
       "Name: wine_servings, dtype: float64"
      ]
     },
     "execution_count": 2,
     "metadata": {},
     "output_type": "execute_result"
    }
   ],
   "source": [
    "dataSeries = pd.read_csv(\"https://andybek.com/pandas-drinks\", usecols=['wine_servings', 'country'], index_col='country').squeeze()\n",
    "dataSeries.head(5)"
   ]
  },
  {
   "cell_type": "code",
   "execution_count": 3,
   "metadata": {},
   "outputs": [
    {
     "data": {
      "text/plain": [
       "country\n",
       "Albania               54.0\n",
       "Algeria               14.0\n",
       "Andorra              312.0\n",
       "Angola                45.0\n",
       "Antigua & Barbuda     45.0\n",
       "Name: wine_servings, dtype: float64"
      ]
     },
     "execution_count": 3,
     "metadata": {},
     "output_type": "execute_result"
    }
   ],
   "source": [
    "# remove null\n",
    "data = dataSeries[dataSeries.notnull()]\n",
    "data.head(5)"
   ]
  },
  {
   "cell_type": "code",
   "execution_count": 4,
   "metadata": {},
   "outputs": [
    {
     "data": {
      "text/plain": [
       "8221.0"
      ]
     },
     "execution_count": 4,
     "metadata": {},
     "output_type": "execute_result"
    }
   ],
   "source": [
    "data.sum()"
   ]
  },
  {
   "cell_type": "code",
   "execution_count": 5,
   "metadata": {},
   "outputs": [
    {
     "data": {
      "text/plain": [
       "False"
      ]
     },
     "execution_count": 5,
     "metadata": {},
     "output_type": "execute_result"
    }
   ],
   "source": [
    "data.hasnans"
   ]
  },
  {
   "cell_type": "markdown",
   "metadata": {},
   "source": [
    "# index vy min/max\n",
    "* idxmin(): \n",
    "    - returns the label od the row with minimum value\n",
    "* idxmax(): \n",
    "    - returns the label of the row with maximum value\n",
    "\n",
    "* [note]: if multiple min/max value occur only return the first value."
   ]
  },
  {
   "cell_type": "code",
   "execution_count": 6,
   "metadata": {},
   "outputs": [
    {
     "data": {
      "text/plain": [
       "339.0"
      ]
     },
     "execution_count": 6,
     "metadata": {},
     "output_type": "execute_result"
    }
   ],
   "source": [
    "# most wine consumed country\n",
    "data.max()"
   ]
  },
  {
   "cell_type": "code",
   "execution_count": 7,
   "metadata": {},
   "outputs": [
    {
     "data": {
      "text/plain": [
       "country\n",
       "Portugal    339.0\n",
       "Name: wine_servings, dtype: float64"
      ]
     },
     "execution_count": 7,
     "metadata": {},
     "output_type": "execute_result"
    }
   ],
   "source": [
    "data[data == data.max()]"
   ]
  },
  {
   "cell_type": "code",
   "execution_count": 8,
   "metadata": {},
   "outputs": [
    {
     "data": {
      "text/plain": [
       "'Portugal'"
      ]
     },
     "execution_count": 8,
     "metadata": {},
     "output_type": "execute_result"
    }
   ],
   "source": [
    "data.idxmax()"
   ]
  },
  {
   "cell_type": "code",
   "execution_count": 9,
   "metadata": {},
   "outputs": [
    {
     "data": {
      "text/plain": [
       "339.0"
      ]
     },
     "execution_count": 9,
     "metadata": {},
     "output_type": "execute_result"
    }
   ],
   "source": [
    "data[data.idxmax()]"
   ]
  },
  {
   "cell_type": "code",
   "execution_count": 10,
   "metadata": {},
   "outputs": [
    {
     "data": {
      "text/plain": [
       "1.0"
      ]
     },
     "execution_count": 10,
     "metadata": {},
     "output_type": "execute_result"
    }
   ],
   "source": [
    "# minimum wine consumed country\n",
    "data.min()"
   ]
  },
  {
   "cell_type": "code",
   "execution_count": 11,
   "metadata": {},
   "outputs": [
    {
     "data": {
      "text/plain": [
       "'Brunei'"
      ]
     },
     "execution_count": 11,
     "metadata": {},
     "output_type": "execute_result"
    }
   ],
   "source": [
    "data.idxmin()"
   ]
  },
  {
   "cell_type": "code",
   "execution_count": 12,
   "metadata": {},
   "outputs": [
    {
     "data": {
      "text/plain": [
       "wine_servings\n",
       "1.0    28\n",
       "Name: count, dtype: int64"
      ]
     },
     "execution_count": 12,
     "metadata": {},
     "output_type": "execute_result"
    }
   ],
   "source": [
    "data[data == data.min()].value_counts()"
   ]
  },
  {
   "cell_type": "code",
   "execution_count": 13,
   "metadata": {},
   "outputs": [
    {
     "data": {
      "text/plain": [
       "country\n",
       "Brunei                      1.0\n",
       "Cambodia                    1.0\n",
       "Canada                      1.0\n",
       "Central African Republic    1.0\n",
       "Chad                        1.0\n",
       "Comoros                     1.0\n",
       "DR Congo                    1.0\n",
       "Egypt                       1.0\n",
       "Fiji                        1.0\n",
       "Gambia                      1.0\n",
       "Ghana                       1.0\n",
       "Guyana                      1.0\n",
       "Haiti                       1.0\n",
       "Jordan                      1.0\n",
       "Kiribati                    1.0\n",
       "Malawi                      1.0\n",
       "Mali                        1.0\n",
       "Morocco                     1.0\n",
       "Namibia                     1.0\n",
       "Nicaragua                   1.0\n",
       "Niger                       1.0\n",
       "Oman                        1.0\n",
       "Papua New Guinea            1.0\n",
       "Philippines                 1.0\n",
       "Solomon Islands             1.0\n",
       "Thailand                    1.0\n",
       "Tanzania                    1.0\n",
       "Vietnam                     1.0\n",
       "Name: wine_servings, dtype: float64"
      ]
     },
     "execution_count": 13,
     "metadata": {},
     "output_type": "execute_result"
    }
   ],
   "source": [
    "data[data == data.min()]"
   ]
  },
  {
   "cell_type": "markdown",
   "metadata": {},
   "source": [
    "# sorting\n",
    "* sort_values()"
   ]
  },
  {
   "cell_type": "code",
   "execution_count": 14,
   "metadata": {},
   "outputs": [
    {
     "data": {
      "text/plain": [
       "country\n",
       "Portugal                    339.0\n",
       "Andorra                     312.0\n",
       "Denmark                     278.0\n",
       "Slovenia                    276.0\n",
       "Luxembourg                  271.0\n",
       "                            ...  \n",
       "Jordan                        1.0\n",
       "Solomon Islands               1.0\n",
       "Central African Republic      1.0\n",
       "Haiti                         1.0\n",
       "Chad                          1.0\n",
       "Name: wine_servings, Length: 162, dtype: float64"
      ]
     },
     "execution_count": 14,
     "metadata": {},
     "output_type": "execute_result"
    }
   ],
   "source": [
    "data.sort_values(ascending=False)"
   ]
  },
  {
   "cell_type": "code",
   "execution_count": 15,
   "metadata": {},
   "outputs": [
    {
     "data": {
      "text/plain": [
       "country\n",
       "Portugal                    339.0\n",
       "Andorra                     312.0\n",
       "Denmark                     278.0\n",
       "Slovenia                    276.0\n",
       "Luxembourg                  271.0\n",
       "                            ...  \n",
       "Jordan                        1.0\n",
       "Solomon Islands               1.0\n",
       "Central African Republic      1.0\n",
       "Haiti                         1.0\n",
       "Chad                          1.0\n",
       "Name: wine_servings, Length: 162, dtype: float64"
      ]
     },
     "execution_count": 15,
     "metadata": {},
     "output_type": "execute_result"
    }
   ],
   "source": [
    "data.sort_values(ascending=False)"
   ]
  },
  {
   "cell_type": "markdown",
   "metadata": {},
   "source": [
    "# largest/smallest \n",
    "* nlargest()\n",
    "* nsmallest()"
   ]
  },
  {
   "cell_type": "code",
   "execution_count": 16,
   "metadata": {},
   "outputs": [
    {
     "data": {
      "text/plain": [
       "country\n",
       "Portugal             339.0\n",
       "Andorra              312.0\n",
       "Denmark              278.0\n",
       "Slovenia             276.0\n",
       "Luxembourg           271.0\n",
       "Croatia              254.0\n",
       "Italy                237.0\n",
       "Equatorial Guinea    233.0\n",
       "Argentina            221.0\n",
       "Greece               218.0\n",
       "Name: wine_servings, dtype: float64"
      ]
     },
     "execution_count": 16,
     "metadata": {},
     "output_type": "execute_result"
    }
   ],
   "source": [
    "data.sort_values(ascending=False)[:10]"
   ]
  },
  {
   "cell_type": "code",
   "execution_count": 17,
   "metadata": {},
   "outputs": [
    {
     "data": {
      "text/plain": [
       "country\n",
       "Portugal             339.0\n",
       "Andorra              312.0\n",
       "Denmark              278.0\n",
       "Slovenia             276.0\n",
       "Luxembourg           271.0\n",
       "Croatia              254.0\n",
       "Italy                237.0\n",
       "Equatorial Guinea    233.0\n",
       "Argentina            221.0\n",
       "Greece               218.0\n",
       "Name: wine_servings, dtype: float64"
      ]
     },
     "execution_count": 17,
     "metadata": {},
     "output_type": "execute_result"
    }
   ],
   "source": [
    "data.nlargest(10)"
   ]
  },
  {
   "cell_type": "code",
   "execution_count": 18,
   "metadata": {},
   "outputs": [
    {
     "data": {
      "text/plain": [
       "country\n",
       "Brunei                      1.0\n",
       "Cambodia                    1.0\n",
       "Canada                      1.0\n",
       "Central African Republic    1.0\n",
       "Chad                        1.0\n",
       "Comoros                     1.0\n",
       "DR Congo                    1.0\n",
       "Egypt                       1.0\n",
       "Fiji                        1.0\n",
       "Gambia                      1.0\n",
       "Name: wine_servings, dtype: float64"
      ]
     },
     "execution_count": 18,
     "metadata": {},
     "output_type": "execute_result"
    }
   ],
   "source": [
    "data.nsmallest(10)"
   ]
  },
  {
   "cell_type": "markdown",
   "metadata": {},
   "source": [
    "# sort by index\n",
    "* sort_index()"
   ]
  },
  {
   "cell_type": "code",
   "execution_count": 19,
   "metadata": {},
   "outputs": [
    {
     "data": {
      "text/plain": [
       "country\n",
       "Albania               54.0\n",
       "Algeria               14.0\n",
       "Andorra              312.0\n",
       "Angola                45.0\n",
       "Antigua & Barbuda     45.0\n",
       "                     ...  \n",
       "Vanuatu               11.0\n",
       "Venezuela              3.0\n",
       "Vietnam                1.0\n",
       "Zambia                 4.0\n",
       "Zimbabwe               4.0\n",
       "Name: wine_servings, Length: 162, dtype: float64"
      ]
     },
     "execution_count": 19,
     "metadata": {},
     "output_type": "execute_result"
    }
   ],
   "source": [
    "data.sort_index()"
   ]
  },
  {
   "cell_type": "markdown",
   "metadata": {},
   "source": [
    "# fifty plus wine servings"
   ]
  },
  {
   "cell_type": "code",
   "execution_count": 20,
   "metadata": {},
   "outputs": [
    {
     "data": {
      "text/plain": [
       "country\n",
       "Albania       54.0\n",
       "Austria      191.0\n",
       "Australia    212.0\n",
       "Argentina    221.0\n",
       "Andorra      312.0\n",
       "Name: wine_servings, dtype: float64"
      ]
     },
     "execution_count": 20,
     "metadata": {},
     "output_type": "execute_result"
    }
   ],
   "source": [
    "fifty_plus = data[data > 50]\n",
    "fifty_plus.head(5).sort_values()"
   ]
  },
  {
   "cell_type": "code",
   "execution_count": 21,
   "metadata": {},
   "outputs": [
    {
     "data": {
      "text/plain": [
       "48"
      ]
     },
     "execution_count": 21,
     "metadata": {},
     "output_type": "execute_result"
    }
   ],
   "source": [
    "fifty_plus.count()"
   ]
  },
  {
   "cell_type": "code",
   "execution_count": 22,
   "metadata": {},
   "outputs": [
    {
     "data": {
      "text/plain": [
       "country\n",
       "Bahamas                51.0\n",
       "Seychelles             51.0\n",
       "Albania                54.0\n",
       "Lithuania              56.0\n",
       "Poland                 56.0\n",
       "Estonia                59.0\n",
       "Gabon                  59.0\n",
       "Latvia                 62.0\n",
       "St. Lucia              71.0\n",
       "Russian Federation     73.0\n",
       "Cook Islands           74.0\n",
       "Paraguay               74.0\n",
       "Iceland                78.0\n",
       "South Africa           81.0\n",
       "USA                    84.0\n",
       "Macedonia              86.0\n",
       "Bulgaria               94.0\n",
       "Finland                97.0\n",
       "Spain                 112.0\n",
       "Cyprus                113.0\n",
       "Name: wine_servings, dtype: float64"
      ]
     },
     "execution_count": 22,
     "metadata": {},
     "output_type": "execute_result"
    }
   ],
   "source": [
    "lowest_fifty = fifty_plus.nsmallest(20)\n",
    "lowest_fifty.sort_values()"
   ]
  },
  {
   "cell_type": "code",
   "execution_count": 23,
   "metadata": {},
   "outputs": [
    {
     "data": {
      "text/plain": [
       "74.25"
      ]
     },
     "execution_count": 23,
     "metadata": {},
     "output_type": "execute_result"
    }
   ],
   "source": [
    "lowest_fifty.mean()"
   ]
  },
  {
   "cell_type": "code",
   "execution_count": 24,
   "metadata": {},
   "outputs": [
    {
     "data": {
      "text/plain": [
       "73.5"
      ]
     },
     "execution_count": 24,
     "metadata": {},
     "output_type": "execute_result"
    }
   ],
   "source": [
    "lowest_fifty.median()"
   ]
  },
  {
   "cell_type": "code",
   "execution_count": 25,
   "metadata": {},
   "outputs": [
    {
     "data": {
      "text/plain": [
       "19.07292100831631"
      ]
     },
     "execution_count": 25,
     "metadata": {},
     "output_type": "execute_result"
    }
   ],
   "source": [
    "lowest_fifty.std()"
   ]
  },
  {
   "cell_type": "markdown",
   "metadata": {},
   "source": [
    "# Basic arithmatic\n",
    "* add(fill-value=0)\n",
    "* sub()\n",
    "* divide()\n",
    "* multiply()"
   ]
  },
  {
   "cell_type": "code",
   "execution_count": 26,
   "metadata": {},
   "outputs": [
    {
     "data": {
      "text/plain": [
       "country\n",
       "Albania               54.0\n",
       "Algeria               14.0\n",
       "Andorra              312.0\n",
       "Angola                45.0\n",
       "Antigua & Barbuda     45.0\n",
       "Name: wine_servings, dtype: float64"
      ]
     },
     "execution_count": 26,
     "metadata": {},
     "output_type": "execute_result"
    }
   ],
   "source": [
    "new_data = data.head(5)\n",
    "new_data"
   ]
  },
  {
   "cell_type": "code",
   "execution_count": 27,
   "metadata": {},
   "outputs": [
    {
     "data": {
      "text/plain": [
       "test_country     100\n",
       "test_country2    250\n",
       "dtype: int64"
      ]
     },
     "execution_count": 27,
     "metadata": {},
     "output_type": "execute_result"
    }
   ],
   "source": [
    "to_add = pd.Series({'test_country': 100, 'test_country2': 250})\n",
    "to_add"
   ]
  },
  {
   "cell_type": "code",
   "execution_count": 28,
   "metadata": {},
   "outputs": [
    {
     "data": {
      "text/plain": [
       "Albania             NaN\n",
       "Algeria             NaN\n",
       "Andorra             NaN\n",
       "Angola              NaN\n",
       "Antigua & Barbuda   NaN\n",
       "test_country        NaN\n",
       "test_country2       NaN\n",
       "dtype: float64"
      ]
     },
     "execution_count": 28,
     "metadata": {},
     "output_type": "execute_result"
    }
   ],
   "source": [
    "new_data + to_add"
   ]
  },
  {
   "cell_type": "code",
   "execution_count": 29,
   "metadata": {},
   "outputs": [
    {
     "data": {
      "text/plain": [
       "Albania               54.0\n",
       "Algeria               14.0\n",
       "Andorra              312.0\n",
       "Angola                45.0\n",
       "Antigua & Barbuda     45.0\n",
       "test_country         100.0\n",
       "test_country2        250.0\n",
       "dtype: float64"
      ]
     },
     "execution_count": 29,
     "metadata": {},
     "output_type": "execute_result"
    }
   ],
   "source": [
    "series_added = new_data.add(to_add, fill_value=0)\n",
    "series_added"
   ]
  },
  {
   "cell_type": "code",
   "execution_count": 30,
   "metadata": {},
   "outputs": [
    {
     "data": {
      "text/plain": [
       "Albania              NaN\n",
       "Algeria              NaN\n",
       "Andorra              NaN\n",
       "Angola               NaN\n",
       "Antigua & Barbuda    NaN\n",
       "test_country         0.0\n",
       "test_country2        0.0\n",
       "dtype: float64"
      ]
     },
     "execution_count": 30,
     "metadata": {},
     "output_type": "execute_result"
    }
   ],
   "source": [
    "series_added - to_add"
   ]
  },
  {
   "cell_type": "code",
   "execution_count": 31,
   "metadata": {},
   "outputs": [
    {
     "data": {
      "text/plain": [
       "Albania               54.0\n",
       "Algeria               14.0\n",
       "Andorra              312.0\n",
       "Angola                45.0\n",
       "Antigua & Barbuda     45.0\n",
       "test_country           0.0\n",
       "test_country2          0.0\n",
       "dtype: float64"
      ]
     },
     "execution_count": 31,
     "metadata": {},
     "output_type": "execute_result"
    }
   ],
   "source": [
    "series_added.sub(to_add, fill_value=0)"
   ]
  },
  {
   "cell_type": "code",
   "execution_count": 32,
   "metadata": {},
   "outputs": [
    {
     "data": {
      "text/plain": [
       "Albania               54.0\n",
       "Algeria               14.0\n",
       "Andorra              312.0\n",
       "Angola                45.0\n",
       "Antigua & Barbuda     45.0\n",
       "test_country           1.0\n",
       "test_country2          1.0\n",
       "dtype: float64"
      ]
     },
     "execution_count": 32,
     "metadata": {},
     "output_type": "execute_result"
    }
   ],
   "source": [
    "series_added.divide(to_add, fill_value=1)"
   ]
  },
  {
   "cell_type": "code",
   "execution_count": 33,
   "metadata": {},
   "outputs": [
    {
     "data": {
      "text/plain": [
       "Albania                 54.0\n",
       "Algeria                 14.0\n",
       "Andorra                312.0\n",
       "Angola                  45.0\n",
       "Antigua & Barbuda       45.0\n",
       "test_country         10000.0\n",
       "test_country2        62500.0\n",
       "dtype: float64"
      ]
     },
     "execution_count": 33,
     "metadata": {},
     "output_type": "execute_result"
    }
   ],
   "source": [
    "series_added.multiply(to_add, fill_value=1)"
   ]
  },
  {
   "cell_type": "markdown",
   "metadata": {},
   "source": [
    "# calculate varience and std"
   ]
  },
  {
   "cell_type": "code",
   "execution_count": 34,
   "metadata": {},
   "outputs": [
    {
     "data": {
      "text/plain": [
       "5796.525611532858"
      ]
     },
     "execution_count": 34,
     "metadata": {},
     "output_type": "execute_result"
    }
   ],
   "source": [
    "data.var()"
   ]
  },
  {
   "cell_type": "code",
   "execution_count": 35,
   "metadata": {},
   "outputs": [
    {
     "data": {
      "text/plain": [
       "933240.6234567902"
      ]
     },
     "execution_count": 35,
     "metadata": {},
     "output_type": "execute_result"
    }
   ],
   "source": [
    "nominatior = (data.subtract(data.mean())**2).sum()\n",
    "nominatior"
   ]
  },
  {
   "cell_type": "code",
   "execution_count": 36,
   "metadata": {},
   "outputs": [
    {
     "data": {
      "text/plain": [
       "161"
      ]
     },
     "execution_count": 36,
     "metadata": {},
     "output_type": "execute_result"
    }
   ],
   "source": [
    "denominator = data.count() - 1\n",
    "denominator"
   ]
  },
  {
   "cell_type": "code",
   "execution_count": 37,
   "metadata": {},
   "outputs": [
    {
     "data": {
      "text/plain": [
       "5796.525611532858"
      ]
     },
     "execution_count": 37,
     "metadata": {},
     "output_type": "execute_result"
    }
   ],
   "source": [
    "varience = nominatior / denominator\n",
    "varience"
   ]
  },
  {
   "cell_type": "markdown",
   "metadata": {},
   "source": [
    "# std\n",
    "* square root of varience"
   ]
  },
  {
   "cell_type": "code",
   "execution_count": 38,
   "metadata": {},
   "outputs": [
    {
     "data": {
      "text/plain": [
       "76.13491716376171"
      ]
     },
     "execution_count": 38,
     "metadata": {},
     "output_type": "execute_result"
    }
   ],
   "source": [
    "data.std()"
   ]
  },
  {
   "cell_type": "code",
   "execution_count": 39,
   "metadata": {},
   "outputs": [
    {
     "data": {
      "text/plain": [
       "76.13491716376171"
      ]
     },
     "execution_count": 39,
     "metadata": {},
     "output_type": "execute_result"
    }
   ],
   "source": [
    "varience ** (1/2)"
   ]
  },
  {
   "cell_type": "markdown",
   "metadata": {},
   "source": [
    "# cumulative sum"
   ]
  },
  {
   "cell_type": "code",
   "execution_count": 40,
   "metadata": {},
   "outputs": [
    {
     "data": {
      "text/plain": [
       "country\n",
       "Thailand             1.0\n",
       "Solomon Islands      1.0\n",
       "Brunei               1.0\n",
       "Haiti                1.0\n",
       "Cambodia             1.0\n",
       "                   ...  \n",
       "Luxembourg         271.0\n",
       "Slovenia           276.0\n",
       "Denmark            278.0\n",
       "Andorra            312.0\n",
       "Portugal           339.0\n",
       "Name: wine_servings, Length: 162, dtype: float64"
      ]
     },
     "execution_count": 40,
     "metadata": {},
     "output_type": "execute_result"
    }
   ],
   "source": [
    "data.sort_values()"
   ]
  },
  {
   "cell_type": "code",
   "execution_count": 41,
   "metadata": {},
   "outputs": [
    {
     "data": {
      "text/plain": [
       "8221.0"
      ]
     },
     "execution_count": 41,
     "metadata": {},
     "output_type": "execute_result"
    }
   ],
   "source": [
    "data.sum()"
   ]
  },
  {
   "cell_type": "code",
   "execution_count": 42,
   "metadata": {},
   "outputs": [
    {
     "data": {
      "text/plain": [
       "country\n",
       "Thailand              1.0\n",
       "Solomon Islands       2.0\n",
       "Brunei                3.0\n",
       "Haiti                 4.0\n",
       "Cambodia              5.0\n",
       "                    ...  \n",
       "Luxembourg         7016.0\n",
       "Slovenia           7292.0\n",
       "Denmark            7570.0\n",
       "Andorra            7882.0\n",
       "Portugal           8221.0\n",
       "Name: wine_servings, Length: 162, dtype: float64"
      ]
     },
     "execution_count": 42,
     "metadata": {},
     "output_type": "execute_result"
    }
   ],
   "source": [
    "data.sort_values().cumsum()"
   ]
  },
  {
   "cell_type": "markdown",
   "metadata": {},
   "source": [
    "# cumulative product"
   ]
  },
  {
   "cell_type": "code",
   "execution_count": 43,
   "metadata": {},
   "outputs": [
    {
     "data": {
      "text/plain": [
       "3.427611505218281e+183"
      ]
     },
     "execution_count": 43,
     "metadata": {},
     "output_type": "execute_result"
    }
   ],
   "source": [
    "data.prod()"
   ]
  },
  {
   "cell_type": "code",
   "execution_count": 44,
   "metadata": {},
   "outputs": [
    {
     "data": {
      "text/plain": [
       "country\n",
       "Albania               5.400000e+01\n",
       "Algeria               7.560000e+02\n",
       "Andorra               2.358720e+05\n",
       "Angola                1.061424e+07\n",
       "Antigua & Barbuda     4.776408e+08\n",
       "                         ...      \n",
       "Vanuatu              7.140857e+181\n",
       "Venezuela            2.142257e+182\n",
       "Vietnam              2.142257e+182\n",
       "Zambia               8.569029e+182\n",
       "Zimbabwe             3.427612e+183\n",
       "Name: wine_servings, Length: 162, dtype: float64"
      ]
     },
     "execution_count": 44,
     "metadata": {},
     "output_type": "execute_result"
    }
   ],
   "source": [
    "data.cumprod()"
   ]
  },
  {
   "cell_type": "markdown",
   "metadata": {},
   "source": [
    "# cumulative min max"
   ]
  },
  {
   "cell_type": "code",
   "execution_count": 45,
   "metadata": {},
   "outputs": [
    {
     "data": {
      "text/plain": [
       "1.0"
      ]
     },
     "execution_count": 45,
     "metadata": {},
     "output_type": "execute_result"
    }
   ],
   "source": [
    "data.min()"
   ]
  },
  {
   "cell_type": "code",
   "execution_count": 46,
   "metadata": {},
   "outputs": [
    {
     "data": {
      "text/plain": [
       "country\n",
       "Albania              54.0\n",
       "Algeria              14.0\n",
       "Andorra              14.0\n",
       "Angola               14.0\n",
       "Antigua & Barbuda    14.0\n",
       "                     ... \n",
       "Vanuatu               1.0\n",
       "Venezuela             1.0\n",
       "Vietnam               1.0\n",
       "Zambia                1.0\n",
       "Zimbabwe              1.0\n",
       "Name: wine_servings, Length: 162, dtype: float64"
      ]
     },
     "execution_count": 46,
     "metadata": {},
     "output_type": "execute_result"
    }
   ],
   "source": [
    "data.cummin()"
   ]
  },
  {
   "cell_type": "code",
   "execution_count": 47,
   "metadata": {},
   "outputs": [
    {
     "data": {
      "text/plain": [
       "339.0"
      ]
     },
     "execution_count": 47,
     "metadata": {},
     "output_type": "execute_result"
    }
   ],
   "source": [
    "data.max()"
   ]
  },
  {
   "cell_type": "code",
   "execution_count": 48,
   "metadata": {},
   "outputs": [
    {
     "data": {
      "text/plain": [
       "country\n",
       "Albania               54.0\n",
       "Algeria               54.0\n",
       "Andorra              312.0\n",
       "Angola               312.0\n",
       "Antigua & Barbuda    312.0\n",
       "                     ...  \n",
       "Vanuatu              339.0\n",
       "Venezuela            339.0\n",
       "Vietnam              339.0\n",
       "Zambia               339.0\n",
       "Zimbabwe             339.0\n",
       "Name: wine_servings, Length: 162, dtype: float64"
      ]
     },
     "execution_count": 48,
     "metadata": {},
     "output_type": "execute_result"
    }
   ],
   "source": [
    "data.cummax()"
   ]
  },
  {
   "cell_type": "markdown",
   "metadata": {},
   "source": [
    "# difference between one element to previous element\n",
    "* diff(period=0)\n",
    "* the first discrete element-wise difference in a series\n",
    "* works with time series data\n",
    "* a = v1, b = v2, c = v3\n",
    "    - periods=1:\n",
    "        - v2 - v1, v3 - v2\n",
    "    - periods=-1\n",
    "        - v1 - v2, v2 - v3\n",
    "    - periods=2\n",
    "        - v3 - v1, v4 - v2"
   ]
  },
  {
   "cell_type": "code",
   "execution_count": 49,
   "metadata": {},
   "outputs": [
    {
     "data": {
      "text/plain": [
       "country\n",
       "Albania               54.0\n",
       "Algeria               14.0\n",
       "Andorra              312.0\n",
       "Angola                45.0\n",
       "Antigua & Barbuda     45.0\n",
       "Name: wine_servings, dtype: float64"
      ]
     },
     "execution_count": 49,
     "metadata": {},
     "output_type": "execute_result"
    }
   ],
   "source": [
    "data.head(5)"
   ]
  },
  {
   "cell_type": "code",
   "execution_count": 50,
   "metadata": {},
   "outputs": [
    {
     "data": {
      "text/plain": [
       "country\n",
       "Albania                NaN\n",
       "Algeria              -40.0\n",
       "Andorra              298.0\n",
       "Angola              -267.0\n",
       "Antigua & Barbuda      0.0\n",
       "Name: wine_servings, dtype: float64"
      ]
     },
     "execution_count": 50,
     "metadata": {},
     "output_type": "execute_result"
    }
   ],
   "source": [
    "data.diff().head(5)"
   ]
  },
  {
   "cell_type": "markdown",
   "metadata": {},
   "source": [
    "# series iteration"
   ]
  },
  {
   "cell_type": "code",
   "execution_count": 53,
   "metadata": {},
   "outputs": [
    {
     "name": "stdout",
     "output_type": "stream",
     "text": [
      "54.0\n",
      "14.0\n",
      "312.0\n",
      "45.0\n",
      "45.0\n",
      "221.0\n",
      "11.0\n",
      "212.0\n",
      "191.0\n",
      "5.0\n",
      "51.0\n",
      "7.0\n",
      "36.0\n",
      "42.0\n",
      "212.0\n",
      "8.0\n",
      "13.0\n",
      "8.0\n",
      "8.0\n",
      "35.0\n",
      "16.0\n",
      "1.0\n",
      "94.0\n",
      "7.0\n",
      "7.0\n",
      "16.0\n",
      "1.0\n",
      "4.0\n",
      "1.0\n",
      "1.0\n",
      "1.0\n",
      "172.0\n",
      "8.0\n",
      "3.0\n",
      "1.0\n",
      "9.0\n",
      "74.0\n",
      "11.0\n",
      "254.0\n",
      "5.0\n",
      "113.0\n",
      "134.0\n",
      "1.0\n",
      "278.0\n",
      "3.0\n",
      "26.0\n",
      "9.0\n",
      "3.0\n",
      "1.0\n",
      "2.0\n",
      "233.0\n",
      "59.0\n",
      "1.0\n",
      "97.0\n",
      "37.0\n",
      "59.0\n",
      "1.0\n",
      "149.0\n",
      "175.0\n",
      "1.0\n",
      "218.0\n",
      "28.0\n",
      "2.0\n",
      "2.0\n",
      "21.0\n",
      "1.0\n",
      "1.0\n",
      "2.0\n",
      "185.0\n",
      "78.0\n",
      "165.0\n",
      "9.0\n",
      "237.0\n",
      "9.0\n",
      "16.0\n",
      "1.0\n",
      "12.0\n",
      "2.0\n",
      "1.0\n",
      "6.0\n",
      "123.0\n",
      "62.0\n",
      "31.0\n",
      "2.0\n",
      "56.0\n",
      "271.0\n",
      "4.0\n",
      "1.0\n",
      "1.0\n",
      "12.0\n",
      "18.0\n",
      "5.0\n",
      "18.0\n",
      "8.0\n",
      "128.0\n",
      "1.0\n",
      "5.0\n",
      "1.0\n",
      "8.0\n",
      "19.0\n",
      "175.0\n",
      "1.0\n",
      "1.0\n",
      "2.0\n",
      "7.0\n",
      "129.0\n",
      "1.0\n",
      "23.0\n",
      "18.0\n",
      "1.0\n",
      "74.0\n",
      "21.0\n",
      "1.0\n",
      "56.0\n",
      "339.0\n",
      "7.0\n",
      "9.0\n",
      "18.0\n",
      "167.0\n",
      "73.0\n",
      "32.0\n",
      "71.0\n",
      "11.0\n",
      "24.0\n",
      "14.0\n",
      "7.0\n",
      "127.0\n",
      "51.0\n",
      "2.0\n",
      "11.0\n",
      "116.0\n",
      "276.0\n",
      "1.0\n",
      "81.0\n",
      "112.0\n",
      "7.0\n",
      "2.0\n",
      "186.0\n",
      "28.0\n",
      "16.0\n",
      "1.0\n",
      "86.0\n",
      "4.0\n",
      "19.0\n",
      "5.0\n",
      "7.0\n",
      "2.0\n",
      "7.0\n",
      "32.0\n",
      "9.0\n",
      "45.0\n",
      "5.0\n",
      "195.0\n",
      "1.0\n",
      "84.0\n",
      "22.0\n",
      "8.0\n",
      "11.0\n",
      "3.0\n",
      "1.0\n",
      "4.0\n",
      "4.0\n"
     ]
    }
   ],
   "source": [
    "for i in data:\n",
    "    print(i)"
   ]
  },
  {
   "cell_type": "code",
   "execution_count": 54,
   "metadata": {},
   "outputs": [
    {
     "name": "stdout",
     "output_type": "stream",
     "text": [
      "Albania\n",
      "Algeria\n",
      "Andorra\n",
      "Angola\n",
      "Antigua & Barbuda\n",
      "Argentina\n",
      "Armenia\n",
      "Australia\n",
      "Austria\n",
      "Azerbaijan\n",
      "Bahamas\n",
      "Bahrain\n",
      "Barbados\n",
      "Belarus\n",
      "Belgium\n",
      "Belize\n",
      "Benin\n",
      "Bolivia\n",
      "Bosnia-Herzegovina\n",
      "Botswana\n",
      "Brazil\n",
      "Brunei\n",
      "Bulgaria\n",
      "Burkina Faso\n",
      "Cote d'Ivoire\n",
      "Cabo Verde\n",
      "Cambodia\n",
      "Cameroon\n",
      "Canada\n",
      "Central African Republic\n",
      "Chad\n",
      "Chile\n",
      "China\n",
      "Colombia\n",
      "Comoros\n",
      "Congo\n",
      "Cook Islands\n",
      "Costa Rica\n",
      "Croatia\n",
      "Cuba\n",
      "Cyprus\n",
      "Czech Republic\n",
      "DR Congo\n",
      "Denmark\n",
      "Djibouti\n",
      "Dominica\n",
      "Dominican Republic\n",
      "Ecuador\n",
      "Egypt\n",
      "El Salvador\n",
      "Equatorial Guinea\n",
      "Estonia\n",
      "Fiji\n",
      "Finland\n",
      "France\n",
      "Gabon\n",
      "Gambia\n",
      "Georgia\n",
      "Germany\n",
      "Ghana\n",
      "Greece\n",
      "Grenada\n",
      "Guatemala\n",
      "Guinea\n",
      "Guinea-Bissau\n",
      "Guyana\n",
      "Haiti\n",
      "Honduras\n",
      "Hungary\n",
      "Iceland\n",
      "Ireland\n",
      "Israel\n",
      "Italy\n",
      "Jamaica\n",
      "Japan\n",
      "Jordan\n",
      "Kazakhstan\n",
      "Kenya\n",
      "Kiribati\n",
      "Kyrgyzstan\n",
      "Laos\n",
      "Latvia\n",
      "Lebanon\n",
      "Liberia\n",
      "Lithuania\n",
      "Luxembourg\n",
      "Madagascar\n",
      "Malawi\n",
      "Mali\n",
      "Malta\n",
      "Mauritius\n",
      "Mexico\n",
      "Micronesia\n",
      "Mongolia\n",
      "Montenegro\n",
      "Morocco\n",
      "Mozambique\n",
      "Namibia\n",
      "Nauru\n",
      "Netherlands\n",
      "New Zealand\n",
      "Nicaragua\n",
      "Niger\n",
      "Nigeria\n",
      "Niue\n",
      "Norway\n",
      "Oman\n",
      "Palau\n",
      "Panama\n",
      "Papua New Guinea\n",
      "Paraguay\n",
      "Peru\n",
      "Philippines\n",
      "Poland\n",
      "Portugal\n",
      "Qatar\n",
      "South Korea\n",
      "Moldova\n",
      "Romania\n",
      "Russian Federation\n",
      "St. Kitts & Nevis\n",
      "St. Lucia\n",
      "St. Vincent & the Grenadines\n",
      "Samoa\n",
      "Sao Tome & Principe\n",
      "Senegal\n",
      "Serbia\n",
      "Seychelles\n",
      "Sierra Leone\n",
      "Singapore\n",
      "Slovakia\n",
      "Slovenia\n",
      "Solomon Islands\n",
      "South Africa\n",
      "Spain\n",
      "Suriname\n",
      "Swaziland\n",
      "Sweden\n",
      "Switzerland\n",
      "Syria\n",
      "Thailand\n",
      "Macedonia\n",
      "Timor-Leste\n",
      "Togo\n",
      "Tonga\n",
      "Trinidad & Tobago\n",
      "Tunisia\n",
      "Turkey\n",
      "Turkmenistan\n",
      "Tuvalu\n",
      "Ukraine\n",
      "United Arab Emirates\n",
      "United Kingdom\n",
      "Tanzania\n",
      "USA\n",
      "Uruguay\n",
      "Uzbekistan\n",
      "Vanuatu\n",
      "Venezuela\n",
      "Vietnam\n",
      "Zambia\n",
      "Zimbabwe\n"
     ]
    }
   ],
   "source": [
    "for i in data.index:\n",
    "    print(i)"
   ]
  },
  {
   "cell_type": "code",
   "execution_count": 57,
   "metadata": {},
   "outputs": [
    {
     "name": "stdout",
     "output_type": "stream",
     "text": [
      "Albania 54.0\n",
      "Algeria 14.0\n",
      "Andorra 312.0\n",
      "Angola 45.0\n",
      "Antigua & Barbuda 45.0\n",
      "Argentina 221.0\n",
      "Armenia 11.0\n",
      "Australia 212.0\n",
      "Austria 191.0\n",
      "Azerbaijan 5.0\n",
      "Bahamas 51.0\n",
      "Bahrain 7.0\n",
      "Barbados 36.0\n",
      "Belarus 42.0\n",
      "Belgium 212.0\n",
      "Belize 8.0\n",
      "Benin 13.0\n",
      "Bolivia 8.0\n",
      "Bosnia-Herzegovina 8.0\n",
      "Botswana 35.0\n",
      "Brazil 16.0\n",
      "Brunei 1.0\n",
      "Bulgaria 94.0\n",
      "Burkina Faso 7.0\n",
      "Cote d'Ivoire 7.0\n",
      "Cabo Verde 16.0\n",
      "Cambodia 1.0\n",
      "Cameroon 4.0\n",
      "Canada 1.0\n",
      "Central African Republic 1.0\n",
      "Chad 1.0\n",
      "Chile 172.0\n",
      "China 8.0\n",
      "Colombia 3.0\n",
      "Comoros 1.0\n",
      "Congo 9.0\n",
      "Cook Islands 74.0\n",
      "Costa Rica 11.0\n",
      "Croatia 254.0\n",
      "Cuba 5.0\n",
      "Cyprus 113.0\n",
      "Czech Republic 134.0\n",
      "DR Congo 1.0\n",
      "Denmark 278.0\n",
      "Djibouti 3.0\n",
      "Dominica 26.0\n",
      "Dominican Republic 9.0\n",
      "Ecuador 3.0\n",
      "Egypt 1.0\n",
      "El Salvador 2.0\n",
      "Equatorial Guinea 233.0\n",
      "Estonia 59.0\n",
      "Fiji 1.0\n",
      "Finland 97.0\n",
      "France 37.0\n",
      "Gabon 59.0\n",
      "Gambia 1.0\n",
      "Georgia 149.0\n",
      "Germany 175.0\n",
      "Ghana 1.0\n",
      "Greece 218.0\n",
      "Grenada 28.0\n",
      "Guatemala 2.0\n",
      "Guinea 2.0\n",
      "Guinea-Bissau 21.0\n",
      "Guyana 1.0\n",
      "Haiti 1.0\n",
      "Honduras 2.0\n",
      "Hungary 185.0\n",
      "Iceland 78.0\n",
      "Ireland 165.0\n",
      "Israel 9.0\n",
      "Italy 237.0\n",
      "Jamaica 9.0\n",
      "Japan 16.0\n",
      "Jordan 1.0\n",
      "Kazakhstan 12.0\n",
      "Kenya 2.0\n",
      "Kiribati 1.0\n",
      "Kyrgyzstan 6.0\n",
      "Laos 123.0\n",
      "Latvia 62.0\n",
      "Lebanon 31.0\n",
      "Liberia 2.0\n",
      "Lithuania 56.0\n",
      "Luxembourg 271.0\n",
      "Madagascar 4.0\n",
      "Malawi 1.0\n",
      "Mali 1.0\n",
      "Malta 12.0\n",
      "Mauritius 18.0\n",
      "Mexico 5.0\n",
      "Micronesia 18.0\n",
      "Mongolia 8.0\n",
      "Montenegro 128.0\n",
      "Morocco 1.0\n",
      "Mozambique 5.0\n",
      "Namibia 1.0\n",
      "Nauru 8.0\n",
      "Netherlands 19.0\n",
      "New Zealand 175.0\n",
      "Nicaragua 1.0\n",
      "Niger 1.0\n",
      "Nigeria 2.0\n",
      "Niue 7.0\n",
      "Norway 129.0\n",
      "Oman 1.0\n",
      "Palau 23.0\n",
      "Panama 18.0\n",
      "Papua New Guinea 1.0\n",
      "Paraguay 74.0\n",
      "Peru 21.0\n",
      "Philippines 1.0\n",
      "Poland 56.0\n",
      "Portugal 339.0\n",
      "Qatar 7.0\n",
      "South Korea 9.0\n",
      "Moldova 18.0\n",
      "Romania 167.0\n",
      "Russian Federation 73.0\n",
      "St. Kitts & Nevis 32.0\n",
      "St. Lucia 71.0\n",
      "St. Vincent & the Grenadines 11.0\n",
      "Samoa 24.0\n",
      "Sao Tome & Principe 14.0\n",
      "Senegal 7.0\n",
      "Serbia 127.0\n",
      "Seychelles 51.0\n",
      "Sierra Leone 2.0\n",
      "Singapore 11.0\n",
      "Slovakia 116.0\n",
      "Slovenia 276.0\n",
      "Solomon Islands 1.0\n",
      "South Africa 81.0\n",
      "Spain 112.0\n",
      "Suriname 7.0\n",
      "Swaziland 2.0\n",
      "Sweden 186.0\n",
      "Switzerland 28.0\n",
      "Syria 16.0\n",
      "Thailand 1.0\n",
      "Macedonia 86.0\n",
      "Timor-Leste 4.0\n",
      "Togo 19.0\n",
      "Tonga 5.0\n",
      "Trinidad & Tobago 7.0\n",
      "Tunisia 2.0\n",
      "Turkey 7.0\n",
      "Turkmenistan 32.0\n",
      "Tuvalu 9.0\n",
      "Ukraine 45.0\n",
      "United Arab Emirates 5.0\n",
      "United Kingdom 195.0\n",
      "Tanzania 1.0\n",
      "USA 84.0\n",
      "Uruguay 22.0\n",
      "Uzbekistan 8.0\n",
      "Vanuatu 11.0\n",
      "Venezuela 3.0\n",
      "Vietnam 1.0\n",
      "Zambia 4.0\n",
      "Zimbabwe 4.0\n"
     ]
    }
   ],
   "source": [
    "for i in data.index:\n",
    "    print(i, data[i])"
   ]
  },
  {
   "cell_type": "markdown",
   "metadata": {},
   "source": [
    "### items() method\n",
    "    returns tuple"
   ]
  },
  {
   "cell_type": "code",
   "execution_count": 58,
   "metadata": {},
   "outputs": [
    {
     "name": "stdout",
     "output_type": "stream",
     "text": [
      "('Albania', 54.0)\n",
      "('Algeria', 14.0)\n",
      "('Andorra', 312.0)\n",
      "('Angola', 45.0)\n",
      "('Antigua & Barbuda', 45.0)\n",
      "('Argentina', 221.0)\n",
      "('Armenia', 11.0)\n",
      "('Australia', 212.0)\n",
      "('Austria', 191.0)\n",
      "('Azerbaijan', 5.0)\n",
      "('Bahamas', 51.0)\n",
      "('Bahrain', 7.0)\n",
      "('Barbados', 36.0)\n",
      "('Belarus', 42.0)\n",
      "('Belgium', 212.0)\n",
      "('Belize', 8.0)\n",
      "('Benin', 13.0)\n",
      "('Bolivia', 8.0)\n",
      "('Bosnia-Herzegovina', 8.0)\n",
      "('Botswana', 35.0)\n",
      "('Brazil', 16.0)\n",
      "('Brunei', 1.0)\n",
      "('Bulgaria', 94.0)\n",
      "('Burkina Faso', 7.0)\n",
      "(\"Cote d'Ivoire\", 7.0)\n",
      "('Cabo Verde', 16.0)\n",
      "('Cambodia', 1.0)\n",
      "('Cameroon', 4.0)\n",
      "('Canada', 1.0)\n",
      "('Central African Republic', 1.0)\n",
      "('Chad', 1.0)\n",
      "('Chile', 172.0)\n",
      "('China', 8.0)\n",
      "('Colombia', 3.0)\n",
      "('Comoros', 1.0)\n",
      "('Congo', 9.0)\n",
      "('Cook Islands', 74.0)\n",
      "('Costa Rica', 11.0)\n",
      "('Croatia', 254.0)\n",
      "('Cuba', 5.0)\n",
      "('Cyprus', 113.0)\n",
      "('Czech Republic', 134.0)\n",
      "('DR Congo', 1.0)\n",
      "('Denmark', 278.0)\n",
      "('Djibouti', 3.0)\n",
      "('Dominica', 26.0)\n",
      "('Dominican Republic', 9.0)\n",
      "('Ecuador', 3.0)\n",
      "('Egypt', 1.0)\n",
      "('El Salvador', 2.0)\n",
      "('Equatorial Guinea', 233.0)\n",
      "('Estonia', 59.0)\n",
      "('Fiji', 1.0)\n",
      "('Finland', 97.0)\n",
      "('France', 37.0)\n",
      "('Gabon', 59.0)\n",
      "('Gambia', 1.0)\n",
      "('Georgia', 149.0)\n",
      "('Germany', 175.0)\n",
      "('Ghana', 1.0)\n",
      "('Greece', 218.0)\n",
      "('Grenada', 28.0)\n",
      "('Guatemala', 2.0)\n",
      "('Guinea', 2.0)\n",
      "('Guinea-Bissau', 21.0)\n",
      "('Guyana', 1.0)\n",
      "('Haiti', 1.0)\n",
      "('Honduras', 2.0)\n",
      "('Hungary', 185.0)\n",
      "('Iceland', 78.0)\n",
      "('Ireland', 165.0)\n",
      "('Israel', 9.0)\n",
      "('Italy', 237.0)\n",
      "('Jamaica', 9.0)\n",
      "('Japan', 16.0)\n",
      "('Jordan', 1.0)\n",
      "('Kazakhstan', 12.0)\n",
      "('Kenya', 2.0)\n",
      "('Kiribati', 1.0)\n",
      "('Kyrgyzstan', 6.0)\n",
      "('Laos', 123.0)\n",
      "('Latvia', 62.0)\n",
      "('Lebanon', 31.0)\n",
      "('Liberia', 2.0)\n",
      "('Lithuania', 56.0)\n",
      "('Luxembourg', 271.0)\n",
      "('Madagascar', 4.0)\n",
      "('Malawi', 1.0)\n",
      "('Mali', 1.0)\n",
      "('Malta', 12.0)\n",
      "('Mauritius', 18.0)\n",
      "('Mexico', 5.0)\n",
      "('Micronesia', 18.0)\n",
      "('Mongolia', 8.0)\n",
      "('Montenegro', 128.0)\n",
      "('Morocco', 1.0)\n",
      "('Mozambique', 5.0)\n",
      "('Namibia', 1.0)\n",
      "('Nauru', 8.0)\n",
      "('Netherlands', 19.0)\n",
      "('New Zealand', 175.0)\n",
      "('Nicaragua', 1.0)\n",
      "('Niger', 1.0)\n",
      "('Nigeria', 2.0)\n",
      "('Niue', 7.0)\n",
      "('Norway', 129.0)\n",
      "('Oman', 1.0)\n",
      "('Palau', 23.0)\n",
      "('Panama', 18.0)\n",
      "('Papua New Guinea', 1.0)\n",
      "('Paraguay', 74.0)\n",
      "('Peru', 21.0)\n",
      "('Philippines', 1.0)\n",
      "('Poland', 56.0)\n",
      "('Portugal', 339.0)\n",
      "('Qatar', 7.0)\n",
      "('South Korea', 9.0)\n",
      "('Moldova', 18.0)\n",
      "('Romania', 167.0)\n",
      "('Russian Federation', 73.0)\n",
      "('St. Kitts & Nevis', 32.0)\n",
      "('St. Lucia', 71.0)\n",
      "('St. Vincent & the Grenadines', 11.0)\n",
      "('Samoa', 24.0)\n",
      "('Sao Tome & Principe', 14.0)\n",
      "('Senegal', 7.0)\n",
      "('Serbia', 127.0)\n",
      "('Seychelles', 51.0)\n",
      "('Sierra Leone', 2.0)\n",
      "('Singapore', 11.0)\n",
      "('Slovakia', 116.0)\n",
      "('Slovenia', 276.0)\n",
      "('Solomon Islands', 1.0)\n",
      "('South Africa', 81.0)\n",
      "('Spain', 112.0)\n",
      "('Suriname', 7.0)\n",
      "('Swaziland', 2.0)\n",
      "('Sweden', 186.0)\n",
      "('Switzerland', 28.0)\n",
      "('Syria', 16.0)\n",
      "('Thailand', 1.0)\n",
      "('Macedonia', 86.0)\n",
      "('Timor-Leste', 4.0)\n",
      "('Togo', 19.0)\n",
      "('Tonga', 5.0)\n",
      "('Trinidad & Tobago', 7.0)\n",
      "('Tunisia', 2.0)\n",
      "('Turkey', 7.0)\n",
      "('Turkmenistan', 32.0)\n",
      "('Tuvalu', 9.0)\n",
      "('Ukraine', 45.0)\n",
      "('United Arab Emirates', 5.0)\n",
      "('United Kingdom', 195.0)\n",
      "('Tanzania', 1.0)\n",
      "('USA', 84.0)\n",
      "('Uruguay', 22.0)\n",
      "('Uzbekistan', 8.0)\n",
      "('Vanuatu', 11.0)\n",
      "('Venezuela', 3.0)\n",
      "('Vietnam', 1.0)\n",
      "('Zambia', 4.0)\n",
      "('Zimbabwe', 4.0)\n"
     ]
    }
   ],
   "source": [
    "for i in data.items():\n",
    "    print(i)"
   ]
  },
  {
   "cell_type": "markdown",
   "metadata": {},
   "source": [
    "# filtering the series"
   ]
  },
  {
   "cell_type": "code",
   "execution_count": 61,
   "metadata": {},
   "outputs": [
    {
     "data": {
      "text/plain": [
       "country\n",
       "Albania    54.0\n",
       "Lebanon    31.0\n",
       "Name: wine_servings, dtype: float64"
      ]
     },
     "execution_count": 61,
     "metadata": {},
     "output_type": "execute_result"
    }
   ],
   "source": [
    "data.filter(regex='ban')"
   ]
  },
  {
   "cell_type": "code",
   "execution_count": 62,
   "metadata": {},
   "outputs": [
    {
     "data": {
      "text/plain": [
       "country\n",
       "Albania    54.0\n",
       "Lebanon    31.0\n",
       "Name: wine_servings, dtype: float64"
      ]
     },
     "execution_count": 62,
     "metadata": {},
     "output_type": "execute_result"
    }
   ],
   "source": [
    "data.filter(like='ban')"
   ]
  },
  {
   "cell_type": "code",
   "execution_count": 63,
   "metadata": {},
   "outputs": [
    {
     "data": {
      "text/plain": [
       "country\n",
       "Andorra     312.0\n",
       "Portugal    339.0\n",
       "Name: wine_servings, dtype: float64"
      ]
     },
     "execution_count": 63,
     "metadata": {},
     "output_type": "execute_result"
    }
   ],
   "source": [
    "# by values\n",
    "data[data > 300]"
   ]
  },
  {
   "cell_type": "code",
   "execution_count": 66,
   "metadata": {},
   "outputs": [],
   "source": [
    "def data200(x):\n",
    "    return x > 200"
   ]
  },
  {
   "cell_type": "code",
   "execution_count": 67,
   "metadata": {},
   "outputs": [
    {
     "data": {
      "text/plain": [
       "country\n",
       "Andorra              312.0\n",
       "Argentina            221.0\n",
       "Australia            212.0\n",
       "Belgium              212.0\n",
       "Croatia              254.0\n",
       "Denmark              278.0\n",
       "Equatorial Guinea    233.0\n",
       "Greece               218.0\n",
       "Italy                237.0\n",
       "Luxembourg           271.0\n",
       "Portugal             339.0\n",
       "Slovenia             276.0\n",
       "Name: wine_servings, dtype: float64"
      ]
     },
     "execution_count": 67,
     "metadata": {},
     "output_type": "execute_result"
    }
   ],
   "source": [
    "data[data200]"
   ]
  },
  {
   "cell_type": "markdown",
   "metadata": {},
   "source": [
    "# where method"
   ]
  },
  {
   "cell_type": "code",
   "execution_count": 70,
   "metadata": {},
   "outputs": [
    {
     "data": {
      "text/plain": [
       "country\n",
       "Andorra     312.0\n",
       "Portugal    339.0\n",
       "Name: wine_servings, dtype: float64"
      ]
     },
     "execution_count": 70,
     "metadata": {},
     "output_type": "execute_result"
    }
   ],
   "source": [
    "data.where(lambda x: x > 300).dropna()"
   ]
  },
  {
   "cell_type": "code",
   "execution_count": 88,
   "metadata": {},
   "outputs": [
    {
     "data": {
      "text/plain": [
       "country\n",
       "Angola               45.0\n",
       "Antigua & Barbuda    45.0\n",
       "Armenia              11.0\n",
       "Azerbaijan            5.0\n",
       "Bahrain               7.0\n",
       "                     ... \n",
       "Vanuatu              11.0\n",
       "Venezuela             3.0\n",
       "Vietnam               1.0\n",
       "Zambia                4.0\n",
       "Zimbabwe              4.0\n",
       "Name: wine_servings, Length: 113, dtype: float64"
      ]
     },
     "execution_count": 88,
     "metadata": {},
     "output_type": "execute_result"
    }
   ],
   "source": [
    "data.where(lambda x: x < 50).dropna()"
   ]
  },
  {
   "cell_type": "markdown",
   "metadata": {},
   "source": [
    "# mask method\n",
    "    where th econdition is true"
   ]
  },
  {
   "cell_type": "code",
   "execution_count": 89,
   "metadata": {},
   "outputs": [
    {
     "data": {
      "text/plain": [
       "country\n",
       "Andorra     312.0\n",
       "Portugal    339.0\n",
       "Name: wine_servings, dtype: float64"
      ]
     },
     "execution_count": 89,
     "metadata": {},
     "output_type": "execute_result"
    }
   ],
   "source": [
    "data.mask(lambda x: x < 300).dropna()"
   ]
  },
  {
   "cell_type": "markdown",
   "metadata": {},
   "source": [
    "# transforming with update(), apply(), map()"
   ]
  },
  {
   "cell_type": "markdown",
   "metadata": {},
   "source": [
    "#### spot vs global"
   ]
  },
  {
   "cell_type": "code",
   "execution_count": 90,
   "metadata": {},
   "outputs": [
    {
     "data": {
      "text/plain": [
       "200.0"
      ]
     },
     "execution_count": 90,
     "metadata": {},
     "output_type": "execute_result"
    }
   ],
   "source": [
    "data.loc['Algeria']"
   ]
  },
  {
   "cell_type": "code",
   "execution_count": 91,
   "metadata": {},
   "outputs": [],
   "source": [
    "data.loc['Algeria'] = 100"
   ]
  },
  {
   "cell_type": "code",
   "execution_count": 92,
   "metadata": {},
   "outputs": [
    {
     "data": {
      "text/plain": [
       "100.0"
      ]
     },
     "execution_count": 92,
     "metadata": {},
     "output_type": "execute_result"
    }
   ],
   "source": [
    "data.loc['Algeria']"
   ]
  },
  {
   "cell_type": "markdown",
   "metadata": {},
   "source": [
    "#### update()"
   ]
  },
  {
   "cell_type": "code",
   "execution_count": 93,
   "metadata": {},
   "outputs": [],
   "source": [
    "data.update(pd.Series(data=[200, 100], index=['Algeria', 'Albania']))"
   ]
  },
  {
   "cell_type": "code",
   "execution_count": 94,
   "metadata": {},
   "outputs": [
    {
     "data": {
      "text/plain": [
       "country\n",
       "Albania              100.0\n",
       "Algeria              200.0\n",
       "Andorra              312.0\n",
       "Angola                45.0\n",
       "Antigua & Barbuda     45.0\n",
       "Name: wine_servings, dtype: float64"
      ]
     },
     "execution_count": 94,
     "metadata": {},
     "output_type": "execute_result"
    }
   ],
   "source": [
    "data.head()"
   ]
  },
  {
   "cell_type": "markdown",
   "metadata": {},
   "source": [
    "#### apply()"
   ]
  },
  {
   "cell_type": "code",
   "execution_count": 95,
   "metadata": {},
   "outputs": [
    {
     "data": {
      "text/plain": [
       "country\n",
       "Albania              10000.0\n",
       "Algeria              40000.0\n",
       "Andorra              97344.0\n",
       "Angola                2025.0\n",
       "Antigua & Barbuda     2025.0\n",
       "                      ...   \n",
       "Vanuatu                121.0\n",
       "Venezuela                9.0\n",
       "Vietnam                  1.0\n",
       "Zambia                  16.0\n",
       "Zimbabwe                16.0\n",
       "Name: wine_servings, Length: 162, dtype: float64"
      ]
     },
     "execution_count": 95,
     "metadata": {},
     "output_type": "execute_result"
    }
   ],
   "source": [
    "data.apply(lambda x: x**2)"
   ]
  },
  {
   "cell_type": "code",
   "execution_count": 97,
   "metadata": {},
   "outputs": [
    {
     "data": {
      "text/plain": [
       "country\n",
       "Albania              10000.0\n",
       "Algeria              40000.0\n",
       "Andorra              97344.0\n",
       "Angola                2025.0\n",
       "Antigua & Barbuda     2025.0\n",
       "                      ...   \n",
       "Vanuatu                121.0\n",
       "Venezuela                9.0\n",
       "Vietnam                  1.0\n",
       "Zambia                  16.0\n",
       "Zimbabwe                16.0\n",
       "Name: wine_servings, Length: 162, dtype: float64"
      ]
     },
     "execution_count": 97,
     "metadata": {},
     "output_type": "execute_result"
    }
   ],
   "source": [
    "import numpy as np\n",
    "data.apply(np.square)"
   ]
  },
  {
   "cell_type": "code",
   "execution_count": 102,
   "metadata": {},
   "outputs": [],
   "source": [
    "def multiply_by_self(x):\n",
    "    return x * x"
   ]
  },
  {
   "cell_type": "code",
   "execution_count": 103,
   "metadata": {},
   "outputs": [
    {
     "data": {
      "text/plain": [
       "country\n",
       "Albania              10000.0\n",
       "Algeria              40000.0\n",
       "Andorra              97344.0\n",
       "Angola                2025.0\n",
       "Antigua & Barbuda     2025.0\n",
       "                      ...   \n",
       "Vanuatu                121.0\n",
       "Venezuela                9.0\n",
       "Vietnam                  1.0\n",
       "Zambia                  16.0\n",
       "Zimbabwe                16.0\n",
       "Name: wine_servings, Length: 162, dtype: float64"
      ]
     },
     "execution_count": 103,
     "metadata": {},
     "output_type": "execute_result"
    }
   ],
   "source": [
    "data.apply(multiply_by_self)"
   ]
  },
  {
   "cell_type": "code",
   "execution_count": null,
   "metadata": {},
   "outputs": [],
   "source": []
  }
 ],
 "metadata": {
  "kernelspec": {
   "display_name": "Python 3",
   "language": "python",
   "name": "python3"
  },
  "language_info": {
   "codemirror_mode": {
    "name": "ipython",
    "version": 3
   },
   "file_extension": ".py",
   "mimetype": "text/x-python",
   "name": "python",
   "nbconvert_exporter": "python",
   "pygments_lexer": "ipython3",
   "version": "3.12.3"
  }
 },
 "nbformat": 4,
 "nbformat_minor": 2
}
