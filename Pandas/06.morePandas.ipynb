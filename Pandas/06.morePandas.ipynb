{
 "cells": [
  {
   "cell_type": "markdown",
   "metadata": {},
   "source": [
    "# Pandas"
   ]
  },
  {
   "cell_type": "code",
   "execution_count": 1,
   "metadata": {},
   "outputs": [],
   "source": [
    "import pandas as pd"
   ]
  },
  {
   "cell_type": "code",
   "execution_count": 4,
   "metadata": {},
   "outputs": [
    {
     "data": {
      "text/plain": [
       "country\n",
       "Afghanistan      NaN\n",
       "Albania         54.0\n",
       "Algeria         14.0\n",
       "Andorra        312.0\n",
       "Angola          45.0\n",
       "Name: wine_servings, dtype: float64"
      ]
     },
     "execution_count": 4,
     "metadata": {},
     "output_type": "execute_result"
    }
   ],
   "source": [
    "dataSeries = pd.read_csv(\"https://andybek.com/pandas-drinks\", usecols=['wine_servings', 'country'], index_col='country').squeeze()\n",
    "dataSeries.head(5)"
   ]
  },
  {
   "cell_type": "code",
   "execution_count": 6,
   "metadata": {},
   "outputs": [
    {
     "data": {
      "text/plain": [
       "country\n",
       "Albania               54.0\n",
       "Algeria               14.0\n",
       "Andorra              312.0\n",
       "Angola                45.0\n",
       "Antigua & Barbuda     45.0\n",
       "Name: wine_servings, dtype: float64"
      ]
     },
     "execution_count": 6,
     "metadata": {},
     "output_type": "execute_result"
    }
   ],
   "source": [
    "# remove null\n",
    "data = dataSeries[dataSeries.notnull()]\n",
    "data.head(5)"
   ]
  },
  {
   "cell_type": "code",
   "execution_count": 7,
   "metadata": {},
   "outputs": [
    {
     "data": {
      "text/plain": [
       "8221.0"
      ]
     },
     "execution_count": 7,
     "metadata": {},
     "output_type": "execute_result"
    }
   ],
   "source": [
    "data.sum()"
   ]
  },
  {
   "cell_type": "code",
   "execution_count": 11,
   "metadata": {},
   "outputs": [
    {
     "data": {
      "text/plain": [
       "False"
      ]
     },
     "execution_count": 11,
     "metadata": {},
     "output_type": "execute_result"
    }
   ],
   "source": [
    "data.hasnans"
   ]
  },
  {
   "cell_type": "markdown",
   "metadata": {},
   "source": [
    "# index vy min/max\n",
    "* idxmin(): \n",
    "    - returns the label od the row with minimum value\n",
    "* idxmax(): \n",
    "    - returns the label of the row with maximum value\n",
    "\n",
    "* [note]: if multiple min/max value occur only return the first value."
   ]
  },
  {
   "cell_type": "code",
   "execution_count": 12,
   "metadata": {},
   "outputs": [
    {
     "data": {
      "text/plain": [
       "339.0"
      ]
     },
     "execution_count": 12,
     "metadata": {},
     "output_type": "execute_result"
    }
   ],
   "source": [
    "# most wine consumed country\n",
    "data.max()"
   ]
  },
  {
   "cell_type": "code",
   "execution_count": 13,
   "metadata": {},
   "outputs": [
    {
     "data": {
      "text/plain": [
       "country\n",
       "Portugal    339.0\n",
       "Name: wine_servings, dtype: float64"
      ]
     },
     "execution_count": 13,
     "metadata": {},
     "output_type": "execute_result"
    }
   ],
   "source": [
    "data[data == data.max()]"
   ]
  },
  {
   "cell_type": "code",
   "execution_count": 14,
   "metadata": {},
   "outputs": [
    {
     "data": {
      "text/plain": [
       "'Portugal'"
      ]
     },
     "execution_count": 14,
     "metadata": {},
     "output_type": "execute_result"
    }
   ],
   "source": [
    "data.idxmax()"
   ]
  },
  {
   "cell_type": "code",
   "execution_count": 25,
   "metadata": {},
   "outputs": [
    {
     "data": {
      "text/plain": [
       "339.0"
      ]
     },
     "execution_count": 25,
     "metadata": {},
     "output_type": "execute_result"
    }
   ],
   "source": [
    "data[data.idxmax()]"
   ]
  },
  {
   "cell_type": "code",
   "execution_count": 15,
   "metadata": {},
   "outputs": [
    {
     "data": {
      "text/plain": [
       "1.0"
      ]
     },
     "execution_count": 15,
     "metadata": {},
     "output_type": "execute_result"
    }
   ],
   "source": [
    "# minimum wine consumed country\n",
    "data.min()"
   ]
  },
  {
   "cell_type": "code",
   "execution_count": 16,
   "metadata": {},
   "outputs": [
    {
     "data": {
      "text/plain": [
       "'Brunei'"
      ]
     },
     "execution_count": 16,
     "metadata": {},
     "output_type": "execute_result"
    }
   ],
   "source": [
    "data.idxmin()"
   ]
  },
  {
   "cell_type": "code",
   "execution_count": 23,
   "metadata": {},
   "outputs": [
    {
     "data": {
      "text/plain": [
       "wine_servings\n",
       "1.0    28\n",
       "Name: count, dtype: int64"
      ]
     },
     "execution_count": 23,
     "metadata": {},
     "output_type": "execute_result"
    }
   ],
   "source": [
    "data[data == data.min()].value_counts()"
   ]
  },
  {
   "cell_type": "code",
   "execution_count": 24,
   "metadata": {},
   "outputs": [
    {
     "data": {
      "text/plain": [
       "country\n",
       "Brunei                      1.0\n",
       "Cambodia                    1.0\n",
       "Canada                      1.0\n",
       "Central African Republic    1.0\n",
       "Chad                        1.0\n",
       "Comoros                     1.0\n",
       "DR Congo                    1.0\n",
       "Egypt                       1.0\n",
       "Fiji                        1.0\n",
       "Gambia                      1.0\n",
       "Ghana                       1.0\n",
       "Guyana                      1.0\n",
       "Haiti                       1.0\n",
       "Jordan                      1.0\n",
       "Kiribati                    1.0\n",
       "Malawi                      1.0\n",
       "Mali                        1.0\n",
       "Morocco                     1.0\n",
       "Namibia                     1.0\n",
       "Nicaragua                   1.0\n",
       "Niger                       1.0\n",
       "Oman                        1.0\n",
       "Papua New Guinea            1.0\n",
       "Philippines                 1.0\n",
       "Solomon Islands             1.0\n",
       "Thailand                    1.0\n",
       "Tanzania                    1.0\n",
       "Vietnam                     1.0\n",
       "Name: wine_servings, dtype: float64"
      ]
     },
     "execution_count": 24,
     "metadata": {},
     "output_type": "execute_result"
    }
   ],
   "source": [
    "data[data == data.min()]"
   ]
  },
  {
   "cell_type": "markdown",
   "metadata": {},
   "source": [
    "# sorting\n",
    "* sort_values()"
   ]
  },
  {
   "cell_type": "code",
   "execution_count": 27,
   "metadata": {},
   "outputs": [
    {
     "data": {
      "text/plain": [
       "country\n",
       "Portugal                    339.0\n",
       "Andorra                     312.0\n",
       "Denmark                     278.0\n",
       "Slovenia                    276.0\n",
       "Luxembourg                  271.0\n",
       "                            ...  \n",
       "Jordan                        1.0\n",
       "Solomon Islands               1.0\n",
       "Central African Republic      1.0\n",
       "Haiti                         1.0\n",
       "Chad                          1.0\n",
       "Name: wine_servings, Length: 162, dtype: float64"
      ]
     },
     "execution_count": 27,
     "metadata": {},
     "output_type": "execute_result"
    }
   ],
   "source": [
    "data.sort_values(ascending=False)"
   ]
  },
  {
   "cell_type": "code",
   "execution_count": 31,
   "metadata": {},
   "outputs": [
    {
     "data": {
      "text/plain": [
       "country\n",
       "Portugal                    339.0\n",
       "Andorra                     312.0\n",
       "Denmark                     278.0\n",
       "Slovenia                    276.0\n",
       "Luxembourg                  271.0\n",
       "                            ...  \n",
       "Jordan                        1.0\n",
       "Solomon Islands               1.0\n",
       "Central African Republic      1.0\n",
       "Haiti                         1.0\n",
       "Chad                          1.0\n",
       "Name: wine_servings, Length: 162, dtype: float64"
      ]
     },
     "execution_count": 31,
     "metadata": {},
     "output_type": "execute_result"
    }
   ],
   "source": [
    "data.sort_values(ascending=False)"
   ]
  },
  {
   "cell_type": "markdown",
   "metadata": {},
   "source": [
    "# largest/smallest \n",
    "* nlargest()\n",
    "* nsmallest()"
   ]
  },
  {
   "cell_type": "code",
   "execution_count": 34,
   "metadata": {},
   "outputs": [
    {
     "data": {
      "text/plain": [
       "country\n",
       "Portugal             339.0\n",
       "Andorra              312.0\n",
       "Denmark              278.0\n",
       "Slovenia             276.0\n",
       "Luxembourg           271.0\n",
       "Croatia              254.0\n",
       "Italy                237.0\n",
       "Equatorial Guinea    233.0\n",
       "Argentina            221.0\n",
       "Greece               218.0\n",
       "Name: wine_servings, dtype: float64"
      ]
     },
     "execution_count": 34,
     "metadata": {},
     "output_type": "execute_result"
    }
   ],
   "source": [
    "data.sort_values(ascending=False)[:10]"
   ]
  },
  {
   "cell_type": "code",
   "execution_count": 35,
   "metadata": {},
   "outputs": [
    {
     "data": {
      "text/plain": [
       "country\n",
       "Portugal             339.0\n",
       "Andorra              312.0\n",
       "Denmark              278.0\n",
       "Slovenia             276.0\n",
       "Luxembourg           271.0\n",
       "Croatia              254.0\n",
       "Italy                237.0\n",
       "Equatorial Guinea    233.0\n",
       "Argentina            221.0\n",
       "Greece               218.0\n",
       "Name: wine_servings, dtype: float64"
      ]
     },
     "execution_count": 35,
     "metadata": {},
     "output_type": "execute_result"
    }
   ],
   "source": [
    "data.nlargest(10)"
   ]
  },
  {
   "cell_type": "code",
   "execution_count": 36,
   "metadata": {},
   "outputs": [
    {
     "data": {
      "text/plain": [
       "country\n",
       "Brunei                      1.0\n",
       "Cambodia                    1.0\n",
       "Canada                      1.0\n",
       "Central African Republic    1.0\n",
       "Chad                        1.0\n",
       "Comoros                     1.0\n",
       "DR Congo                    1.0\n",
       "Egypt                       1.0\n",
       "Fiji                        1.0\n",
       "Gambia                      1.0\n",
       "Name: wine_servings, dtype: float64"
      ]
     },
     "execution_count": 36,
     "metadata": {},
     "output_type": "execute_result"
    }
   ],
   "source": [
    "data.nsmallest(10)"
   ]
  },
  {
   "cell_type": "code",
   "execution_count": null,
   "metadata": {},
   "outputs": [],
   "source": []
  }
 ],
 "metadata": {
  "kernelspec": {
   "display_name": "Python 3",
   "language": "python",
   "name": "python3"
  },
  "language_info": {
   "codemirror_mode": {
    "name": "ipython",
    "version": 3
   },
   "file_extension": ".py",
   "mimetype": "text/x-python",
   "name": "python",
   "nbconvert_exporter": "python",
   "pygments_lexer": "ipython3",
   "version": "3.12.3"
  }
 },
 "nbformat": 4,
 "nbformat_minor": 2
}
