{
 "cells": [
  {
   "cell_type": "markdown",
   "id": "c51c7ab7-1709-46de-816a-ae323e325e92",
   "metadata": {},
   "source": [
    "# Numpy Library"
   ]
  },
  {
   "cell_type": "code",
   "execution_count": 1,
   "id": "134d3e8d-7a19-41a5-9122-239a9e2c5552",
   "metadata": {},
   "outputs": [],
   "source": [
    "import numpy as np"
   ]
  },
  {
   "cell_type": "markdown",
   "id": "b08963a1-5d4e-4450-b1ae-b3eb6fe5b5b9",
   "metadata": {},
   "source": [
    "### n-dimentional array\n",
    "* a collection of elements\n",
    "* similar to python list"
   ]
  },
  {
   "cell_type": "code",
   "execution_count": 5,
   "id": "e8f310a6-2f67-4510-9586-1a3c3ab7c254",
   "metadata": {},
   "outputs": [],
   "source": [
    "np_array = np.array([10, 15, 45, 13, 20, 40, 23])"
   ]
  },
  {
   "cell_type": "code",
   "execution_count": 6,
   "id": "0f73a743-522f-4e33-90d2-7ad28d9bee38",
   "metadata": {},
   "outputs": [
    {
     "data": {
      "text/plain": [
       "array([10, 15, 45, 13, 20, 40, 23])"
      ]
     },
     "execution_count": 6,
     "metadata": {},
     "output_type": "execute_result"
    }
   ],
   "source": [
    "np_array"
   ]
  },
  {
   "cell_type": "code",
   "execution_count": 7,
   "id": "a2de65d6-98c2-4e8f-8db4-d831dfe9b7fb",
   "metadata": {},
   "outputs": [
    {
     "data": {
      "text/plain": [
       "numpy.ndarray"
      ]
     },
     "execution_count": 7,
     "metadata": {},
     "output_type": "execute_result"
    }
   ],
   "source": [
    "type(np_array)"
   ]
  },
  {
   "cell_type": "markdown",
   "id": "a6fdc298-0675-45a8-bf73-8c9c70f7ca9e",
   "metadata": {},
   "source": [
    "* quick performance"
   ]
  },
  {
   "cell_type": "markdown",
   "id": "7fab32d3-0ef2-44e7-842e-39cacf9a3a97",
   "metadata": {},
   "source": [
    "### multiply all element with 2 \n",
    "* using python loop"
   ]
  },
  {
   "cell_type": "code",
   "execution_count": 13,
   "id": "b3f6a12e-2c1d-40a0-9ac1-5d64ae97b9ed",
   "metadata": {},
   "outputs": [],
   "source": [
    "arr = []"
   ]
  },
  {
   "cell_type": "code",
   "execution_count": 14,
   "id": "d207303d-1a46-4cfb-8ced-5ad37715d0fa",
   "metadata": {},
   "outputs": [],
   "source": [
    "for i in np_array:\n",
    "    arr.append(i * 2)"
   ]
  },
  {
   "cell_type": "code",
   "execution_count": 15,
   "id": "0cad35d4-6c51-47d4-bcb4-3b7d868bb766",
   "metadata": {},
   "outputs": [
    {
     "data": {
      "text/plain": [
       "[20, 30, 90, 26, 40, 80, 46]"
      ]
     },
     "execution_count": 15,
     "metadata": {},
     "output_type": "execute_result"
    }
   ],
   "source": [
    "arr"
   ]
  },
  {
   "cell_type": "markdown",
   "id": "871f6481-13f2-4c3e-8a40-bf8257365f8a",
   "metadata": {},
   "source": [
    "### multiply all element with 2 \n",
    "* with numpy"
   ]
  },
  {
   "cell_type": "code",
   "execution_count": 16,
   "id": "504c2666-bbb6-468f-a834-0a6e4bab449a",
   "metadata": {},
   "outputs": [
    {
     "data": {
      "text/plain": [
       "array([20, 30, 90, 26, 40, 80, 46])"
      ]
     },
     "execution_count": 16,
     "metadata": {},
     "output_type": "execute_result"
    }
   ],
   "source": [
    "np_array * 2"
   ]
  },
  {
   "cell_type": "markdown",
   "id": "b22db457-2e0c-4838-af6e-926ec38bfc46",
   "metadata": {},
   "source": [
    "### numpy arrays contain only one data type"
   ]
  },
  {
   "cell_type": "code",
   "execution_count": 18,
   "id": "7470fc98-59d8-4f7f-a9ce-ebb38a27b5ee",
   "metadata": {},
   "outputs": [],
   "source": [
    "c_np = np.array([1, 4, 9])"
   ]
  },
  {
   "cell_type": "code",
   "execution_count": 19,
   "id": "971c878b-d575-4b9b-8f80-65f75a69588d",
   "metadata": {},
   "outputs": [
    {
     "data": {
      "text/plain": [
       "numpy.ndarray"
      ]
     },
     "execution_count": 19,
     "metadata": {},
     "output_type": "execute_result"
    }
   ],
   "source": [
    "type(c_np)"
   ]
  },
  {
   "cell_type": "code",
   "execution_count": 20,
   "id": "9942d819-5e61-410d-9e3a-a61ed7128ba6",
   "metadata": {},
   "outputs": [
    {
     "data": {
      "text/plain": [
       "dtype('int32')"
      ]
     },
     "execution_count": 20,
     "metadata": {},
     "output_type": "execute_result"
    }
   ],
   "source": [
    "c_np.dtype"
   ]
  },
  {
   "cell_type": "code",
   "execution_count": 21,
   "id": "32e2ca64-d559-4d9b-9f2b-25a58ace7ca7",
   "metadata": {},
   "outputs": [],
   "source": [
    "f_np = np.array([5.2, 45.5, 8.0])"
   ]
  },
  {
   "cell_type": "code",
   "execution_count": 22,
   "id": "5019730d-9590-42aa-b08d-cfbcc2ae5212",
   "metadata": {},
   "outputs": [
    {
     "data": {
      "text/plain": [
       "dtype('float64')"
      ]
     },
     "execution_count": 22,
     "metadata": {},
     "output_type": "execute_result"
    }
   ],
   "source": [
    "f_np.dtype"
   ]
  },
  {
   "cell_type": "markdown",
   "id": "bc84a642-1bec-430f-8b90-365f1fe85682",
   "metadata": {},
   "source": [
    "* implicit upcasting"
   ]
  },
  {
   "cell_type": "code",
   "execution_count": 23,
   "id": "6683075a-d2ab-435b-94af-d21a2e35dffc",
   "metadata": {},
   "outputs": [],
   "source": [
    "mix = np.array([9, 4, 4.5, 8.9, 13, 21, 20.4])"
   ]
  },
  {
   "cell_type": "code",
   "execution_count": 24,
   "id": "102a99b0-ad2c-4441-9e3b-0b67810a213a",
   "metadata": {},
   "outputs": [
    {
     "data": {
      "text/plain": [
       "dtype('float64')"
      ]
     },
     "execution_count": 24,
     "metadata": {},
     "output_type": "execute_result"
    }
   ],
   "source": [
    "mix.dtype"
   ]
  },
  {
   "cell_type": "code",
   "execution_count": null,
   "id": "8b857cca-d12c-48f4-ab71-b8d99e61fb93",
   "metadata": {},
   "outputs": [],
   "source": []
  }
 ],
 "metadata": {
  "kernelspec": {
   "display_name": "Python 3 (ipykernel)",
   "language": "python",
   "name": "python3"
  },
  "language_info": {
   "codemirror_mode": {
    "name": "ipython",
    "version": 3
   },
   "file_extension": ".py",
   "mimetype": "text/x-python",
   "name": "python",
   "nbconvert_exporter": "python",
   "pygments_lexer": "ipython3",
   "version": "3.12.3"
  }
 },
 "nbformat": 4,
 "nbformat_minor": 5
}
