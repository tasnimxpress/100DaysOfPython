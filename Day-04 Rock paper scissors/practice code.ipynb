{
 "cells": [
  {
   "cell_type": "markdown",
   "id": "a73e22b4",
   "metadata": {},
   "source": [
    "## Random Coin "
   ]
  },
  {
   "cell_type": "code",
   "execution_count": 24,
   "id": "b8e8f749",
   "metadata": {},
   "outputs": [],
   "source": [
    "import random"
   ]
  },
  {
   "cell_type": "code",
   "execution_count": 25,
   "id": "5714d72a",
   "metadata": {},
   "outputs": [
    {
     "name": "stdout",
     "output_type": "stream",
     "text": [
      "Tail\n"
     ]
    }
   ],
   "source": [
    "toss = random.randint(0, 1)\n",
    "if toss == 1:\n",
    "    print('Head')\n",
    "else:\n",
    "    print('Tail')"
   ]
  },
  {
   "cell_type": "markdown",
   "id": "0977659a",
   "metadata": {},
   "source": [
    "## Who's paying?"
   ]
  },
  {
   "cell_type": "code",
   "execution_count": 14,
   "id": "2fee32d0",
   "metadata": {},
   "outputs": [],
   "source": [
    "import random"
   ]
  },
  {
   "cell_type": "code",
   "execution_count": 26,
   "id": "1c523029",
   "metadata": {},
   "outputs": [
    {
     "name": "stdout",
     "output_type": "stream",
     "text": [
      "Give me everybodys name. Separeted by comma: b, a, s, r, t\n"
     ]
    }
   ],
   "source": [
    "name_list = input('Give me everybodys name. Separeted by comma: ')"
   ]
  },
  {
   "cell_type": "code",
   "execution_count": 27,
   "id": "10f088e9",
   "metadata": {},
   "outputs": [],
   "source": [
    "name = name_list.split(', ')"
   ]
  },
  {
   "cell_type": "code",
   "execution_count": 28,
   "id": "6875d856",
   "metadata": {},
   "outputs": [
    {
     "name": "stdout",
     "output_type": "stream",
     "text": [
      "B is going to buy meal today\n"
     ]
    }
   ],
   "source": [
    "# Solution 1\n",
    "x = random.sample(name, 1)\n",
    "y = str(x).join(x).strip().capitalize()\n",
    "z = y.capitalize()\n",
    "print(f'{z} is going to buy meal today')"
   ]
  },
  {
   "cell_type": "code",
   "execution_count": 29,
   "id": "64887f59",
   "metadata": {},
   "outputs": [
    {
     "name": "stdout",
     "output_type": "stream",
     "text": [
      "A is going to buy meal today\n"
     ]
    }
   ],
   "source": [
    "# Solution 2\n",
    "f = random.choice(name).capitalize()\n",
    "print(f'{f} is going to buy meal today')"
   ]
  },
  {
   "cell_type": "code",
   "execution_count": 30,
   "id": "f3c5a7a1",
   "metadata": {},
   "outputs": [
    {
     "name": "stdout",
     "output_type": "stream",
     "text": [
      "['b', 'a', 's', 'r', 't']\n"
     ]
    }
   ],
   "source": [
    "print(name)"
   ]
  },
  {
   "cell_type": "code",
   "execution_count": 31,
   "id": "6663f4f0",
   "metadata": {},
   "outputs": [],
   "source": [
    "item = len(name)"
   ]
  },
  {
   "cell_type": "code",
   "execution_count": 32,
   "id": "5fa56d78",
   "metadata": {},
   "outputs": [
    {
     "name": "stdout",
     "output_type": "stream",
     "text": [
      "R is going to buy meal today\n"
     ]
    }
   ],
   "source": [
    "# Solution 3\n",
    "p = random.randint(0, item-1)\n",
    "k = name[p].strip().capitalize()\n",
    "print(f'{k} is going to buy meal today')"
   ]
  },
  {
   "cell_type": "markdown",
   "id": "5a6167e8",
   "metadata": {},
   "source": [
    "## Treasure map"
   ]
  },
  {
   "cell_type": "code",
   "execution_count": 33,
   "id": "f691dee3",
   "metadata": {},
   "outputs": [],
   "source": [
    "row1 = ['🀆', '🀆', '🀆']\n",
    "row2 = ['🀆', '🀆', '🀆']\n",
    "row3 = ['🀆', '🀆', '🀆']"
   ]
  },
  {
   "cell_type": "code",
   "execution_count": 35,
   "id": "2e183ac8",
   "metadata": {},
   "outputs": [],
   "source": [
    "map = [row1, row2, row3]"
   ]
  },
  {
   "cell_type": "code",
   "execution_count": 36,
   "id": "2721ea99",
   "metadata": {},
   "outputs": [
    {
     "name": "stdout",
     "output_type": "stream",
     "text": [
      "['🀆', '🀆', '🀆']\n",
      "['🀆', '🀆', '🀆']\n",
      "['🀆', '🀆', '🀆']\n"
     ]
    }
   ],
   "source": [
    "print(f'{row1}\\n{row2}\\n{row3}')"
   ]
  },
  {
   "cell_type": "code",
   "execution_count": 37,
   "id": "318a4229",
   "metadata": {},
   "outputs": [],
   "source": [
    "#map[0][0]"
   ]
  },
  {
   "cell_type": "code",
   "execution_count": 38,
   "id": "01f7506a",
   "metadata": {},
   "outputs": [
    {
     "name": "stdout",
     "output_type": "stream",
     "text": [
      "Where do you want to put the treasure? 23\n"
     ]
    }
   ],
   "source": [
    "position = input('Where do you want to put the treasure? ')"
   ]
  },
  {
   "cell_type": "code",
   "execution_count": 43,
   "id": "2f89910f",
   "metadata": {},
   "outputs": [],
   "source": [
    "column = position[0]\n",
    "column = int(column)"
   ]
  },
  {
   "cell_type": "code",
   "execution_count": 44,
   "id": "69019ed6",
   "metadata": {},
   "outputs": [],
   "source": [
    "row = position[1]\n",
    "row = int(row)"
   ]
  },
  {
   "cell_type": "code",
   "execution_count": 45,
   "id": "aac0d4de",
   "metadata": {},
   "outputs": [
    {
     "name": "stdout",
     "output_type": "stream",
     "text": [
      "['🀆', '🀆', '🀆']\n",
      "['🀆', '🀆', '🀆']\n",
      "['🀆', '💎', '🀆']\n"
     ]
    }
   ],
   "source": [
    "# Solution 1\n",
    "treasure = map[row-1][column-1] = '💎'\n",
    "\n",
    "print(f'{row1}\\n{row2}\\n{row3}')"
   ]
  },
  {
   "cell_type": "code",
   "execution_count": 46,
   "id": "00422344",
   "metadata": {},
   "outputs": [
    {
     "name": "stdout",
     "output_type": "stream",
     "text": [
      "['🀆', '🀆', '🀆']\n",
      "['🀆', '🀆', '🀆']\n",
      "['🀆', '💎', '🀆']\n"
     ]
    }
   ],
   "source": [
    "# Solution 2\n",
    "if row == \"1\":\n",
    "    map[0][column-1] = 'X'\n",
    "elif row == \"2\":\n",
    "    map[1][column-1] = 'X'  \n",
    "elif row == \"3\":\n",
    "    map[2][column-1] = 'X'\n",
    "\n",
    "\n",
    "print(f'{row1}\\n{row2}\\n{row3}')"
   ]
  },
  {
   "cell_type": "code",
   "execution_count": null,
   "id": "66a65652",
   "metadata": {},
   "outputs": [],
   "source": []
  }
 ],
 "metadata": {
  "kernelspec": {
   "display_name": "Python 3 (ipykernel)",
   "language": "python",
   "name": "python3"
  },
  "language_info": {
   "codemirror_mode": {
    "name": "ipython",
    "version": 3
   },
   "file_extension": ".py",
   "mimetype": "text/x-python",
   "name": "python",
   "nbconvert_exporter": "python",
   "pygments_lexer": "ipython3",
   "version": "3.10.9"
  },
  "varInspector": {
   "cols": {
    "lenName": 16,
    "lenType": 16,
    "lenVar": 40
   },
   "kernels_config": {
    "python": {
     "delete_cmd_postfix": "",
     "delete_cmd_prefix": "del ",
     "library": "var_list.py",
     "varRefreshCmd": "print(var_dic_list())"
    },
    "r": {
     "delete_cmd_postfix": ") ",
     "delete_cmd_prefix": "rm(",
     "library": "var_list.r",
     "varRefreshCmd": "cat(var_dic_list()) "
    }
   },
   "types_to_exclude": [
    "module",
    "function",
    "builtin_function_or_method",
    "instance",
    "_Feature"
   ],
   "window_display": false
  }
 },
 "nbformat": 4,
 "nbformat_minor": 5
}
