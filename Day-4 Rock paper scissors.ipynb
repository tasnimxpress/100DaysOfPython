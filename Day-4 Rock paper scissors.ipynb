{
 "cells": [
  {
   "cell_type": "code",
   "execution_count": 37,
   "id": "67a55d9e",
   "metadata": {},
   "outputs": [],
   "source": [
    "import random"
   ]
  },
  {
   "cell_type": "code",
   "execution_count": 86,
   "id": "fd2dd00c",
   "metadata": {},
   "outputs": [],
   "source": [
    "# Rock\n",
    "rock = (\"\"\"Rock\n",
    "    _______\n",
    "---'   ____)\n",
    "      (_____)\n",
    "      (_____)\n",
    "      (____)\n",
    "---.__(___)\n",
    "\"\"\")\n",
    "#print(rock)"
   ]
  },
  {
   "cell_type": "code",
   "execution_count": 87,
   "id": "f2a0146d",
   "metadata": {},
   "outputs": [],
   "source": [
    "# Paper\n",
    "paper = (\"\"\"Paper\n",
    "     _______\n",
    "---'    ____)____\n",
    "           ______)\n",
    "          _______)\n",
    "         _______)\n",
    "---.__________)\n",
    "\"\"\")\n",
    "#print(paper)"
   ]
  },
  {
   "cell_type": "code",
   "execution_count": 88,
   "id": "05ad7bbe",
   "metadata": {},
   "outputs": [],
   "source": [
    "# Scissors\n",
    "scissors = (\"\"\"Scissors\n",
    "    _______\n",
    "---'   ____)____\n",
    "          ______)\n",
    "       __________)\n",
    "      (____)\n",
    "---.__(___)\n",
    "\"\"\")\n",
    "#print(scissors)"
   ]
  },
  {
   "cell_type": "code",
   "execution_count": 89,
   "id": "bbe8136c",
   "metadata": {},
   "outputs": [],
   "source": [
    "choice_list = [rock, paper, scissors]"
   ]
  },
  {
   "cell_type": "code",
   "execution_count": 94,
   "id": "9963e6ab",
   "metadata": {},
   "outputs": [
    {
     "name": "stdout",
     "output_type": "stream",
     "text": [
      "What do you choose? Type 1 for rock, 2 for paper, 3 for scissors: 2\n",
      "You choose:\n",
      "Paper\n",
      "     _______\n",
      "---'    ____)____\n",
      "           ______)\n",
      "          _______)\n",
      "         _______)\n",
      "---.__________)\n",
      "\n",
      "\n",
      "Computer choose:\n",
      "Rock\n",
      "    _______\n",
      "---'   ____)\n",
      "      (_____)\n",
      "      (_____)\n",
      "      (____)\n",
      "---.__(___)\n",
      "\n",
      "\n",
      "You loose\n"
     ]
    }
   ],
   "source": [
    "you_choose = int(input('What do you choose? Type 1 for rock, 2 for paper, 3 for scissors: '))\n",
    "computer_choose = random.randint(0,2)\n",
    "\n",
    "print(f'You choose:\\n{choice_list[you_choose-1]}\\n')\n",
    "print(f'Computer choose:\\n{choice_list[computer_choose]}\\n')\n",
    "\n",
    "if (you_choose == 1 and computer_choose == 0) or (you_choose == 2 and computer_choose == 1) or (you_choose == 3 and computer_choose == 2):\n",
    "    print('Draw')\n",
    "elif (you_choose == 1 and computer_choose == 2) or (you_choose == 2 and computer_choose == 1) or (you_choose == 3 and computer_choose == 1):\n",
    "    print('You win')\n",
    "else:\n",
    "    print('You loose')\n"
   ]
  },
  {
   "cell_type": "code",
   "execution_count": null,
   "id": "b8f3a031",
   "metadata": {},
   "outputs": [],
   "source": []
  }
 ],
 "metadata": {
  "kernelspec": {
   "display_name": "Python 3 (ipykernel)",
   "language": "python",
   "name": "python3"
  },
  "language_info": {
   "codemirror_mode": {
    "name": "ipython",
    "version": 3
   },
   "file_extension": ".py",
   "mimetype": "text/x-python",
   "name": "python",
   "nbconvert_exporter": "python",
   "pygments_lexer": "ipython3",
   "version": "3.10.9"
  },
  "varInspector": {
   "cols": {
    "lenName": 16,
    "lenType": 16,
    "lenVar": 40
   },
   "kernels_config": {
    "python": {
     "delete_cmd_postfix": "",
     "delete_cmd_prefix": "del ",
     "library": "var_list.py",
     "varRefreshCmd": "print(var_dic_list())"
    },
    "r": {
     "delete_cmd_postfix": ") ",
     "delete_cmd_prefix": "rm(",
     "library": "var_list.r",
     "varRefreshCmd": "cat(var_dic_list()) "
    }
   },
   "types_to_exclude": [
    "module",
    "function",
    "builtin_function_or_method",
    "instance",
    "_Feature"
   ],
   "window_display": false
  }
 },
 "nbformat": 4,
 "nbformat_minor": 5
}
