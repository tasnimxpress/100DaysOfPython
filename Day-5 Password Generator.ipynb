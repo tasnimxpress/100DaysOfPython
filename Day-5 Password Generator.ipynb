{
 "cells": [
  {
   "cell_type": "markdown",
   "id": "e760c188",
   "metadata": {},
   "source": [
    "## Password generator"
   ]
  },
  {
   "cell_type": "code",
   "execution_count": 1,
   "id": "11672ca2",
   "metadata": {},
   "outputs": [],
   "source": [
    "import random"
   ]
  },
  {
   "cell_type": "code",
   "execution_count": 2,
   "id": "9c05763c",
   "metadata": {},
   "outputs": [],
   "source": [
    "list_letters = ['a', 'b', 'c', 'd', 'e', 'f', 'g', 'h', 'i', 'j', 'k', 'l', 'm', 'n', 'o', 'p', 'q', 'r', 's', 't', 'u', 'v', 'w', 'x', 'y', 'z', 'A', 'B', 'C', 'D', 'E', 'F', 'G', 'H', 'I', 'J', 'K', 'L', 'M', 'N', 'O', 'P', 'Q', 'R', 'S', 'T', 'U', 'V', 'W', 'X', 'Y', 'Z']\n",
    "list_numbers = ['0','1', '2', '3', '4', '5', '6', '7', '8', '9']\n",
    "list_symbols = ['!', '#', '$', '%', '&', '(', ')', '*', '+', '^', '{', '}', '[', ']', '@']"
   ]
  },
  {
   "cell_type": "code",
   "execution_count": 3,
   "id": "03ab1b36",
   "metadata": {},
   "outputs": [
    {
     "name": "stdout",
     "output_type": "stream",
     "text": [
      "How many letters do you want in your password? 8\n"
     ]
    }
   ],
   "source": [
    "total_length = int(input('How many letters do you want in your password? '))"
   ]
  },
  {
   "cell_type": "code",
   "execution_count": 4,
   "id": "ab7ddedd",
   "metadata": {},
   "outputs": [
    {
     "name": "stdout",
     "output_type": "stream",
     "text": [
      "How many symbol do you want? 4\n"
     ]
    }
   ],
   "source": [
    "total_symbol = int(input('How many symbol do you want? '))"
   ]
  },
  {
   "cell_type": "code",
   "execution_count": 5,
   "id": "6433681d",
   "metadata": {},
   "outputs": [
    {
     "name": "stdout",
     "output_type": "stream",
     "text": [
      "How many numbers do you want? 3\n"
     ]
    }
   ],
   "source": [
    "total_number = int(input('How many numbers do you want? '))"
   ]
  },
  {
   "cell_type": "markdown",
   "id": "bd60df84",
   "metadata": {},
   "source": [
    "### Solution with loops"
   ]
  },
  {
   "cell_type": "code",
   "execution_count": 13,
   "id": "31298a7a",
   "metadata": {},
   "outputs": [
    {
     "name": "stdout",
     "output_type": "stream",
     "text": [
      "&0oCI!zvGd]8*7e\n"
     ]
    }
   ],
   "source": [
    "pass_word = []\n",
    "for i in range(1, total_length + 1):\n",
    "    pass_word += random.choice(list_letters)\n",
    "for i in range(1, total_number + 1):\n",
    "    pass_word += random.choice(list_numbers)    \n",
    "\n",
    "for i in range(1, total_symbol + 1):\n",
    "    pass_word += random.choice(list_symbols)\n",
    "\n",
    "#print(passwrd)\n",
    "\n",
    "for n in pass_word:\n",
    "    random.shuffle(pass_word)\n",
    "    password = ' '.join(pass_word).strip('').replace(' ', '')\n",
    "print(password)"
   ]
  },
  {
   "cell_type": "markdown",
   "id": "cb770ac3",
   "metadata": {},
   "source": [
    "### 2nd solution"
   ]
  },
  {
   "cell_type": "code",
   "execution_count": 18,
   "id": "91b4201b",
   "metadata": {},
   "outputs": [
    {
     "name": "stdout",
     "output_type": "stream",
     "text": [
      "6VD8{lF@s&SGb]1\n"
     ]
    }
   ],
   "source": [
    "pass_word = []\n",
    "for i in range(1, total_length + 1):\n",
    "    pass_word += random.choice(list_letters)\n",
    "for i in range(1, total_number + 1):\n",
    "    pass_word += random.choice(list_numbers)    \n",
    "\n",
    "for i in range(1, total_symbol + 1):\n",
    "    pass_word += random.choice(list_symbols)\n",
    "\n",
    "random.shuffle(pass_word)\n",
    "password = ''\n",
    "for n in pass_word:\n",
    "    password += n\n",
    "print(password)"
   ]
  },
  {
   "cell_type": "markdown",
   "id": "4115b43e",
   "metadata": {},
   "source": [
    "### Solution with functions and loops"
   ]
  },
  {
   "cell_type": "code",
   "execution_count": 8,
   "id": "5c65aee3",
   "metadata": {},
   "outputs": [],
   "source": [
    "letter = random.sample(list_letters, total_length)"
   ]
  },
  {
   "cell_type": "code",
   "execution_count": 9,
   "id": "85a575f4",
   "metadata": {},
   "outputs": [],
   "source": [
    "symbol = random.sample(list_symbols, total_symbol)"
   ]
  },
  {
   "cell_type": "code",
   "execution_count": 10,
   "id": "7e452697",
   "metadata": {},
   "outputs": [],
   "source": [
    "number = random.sample(list_numbers, total_number)"
   ]
  },
  {
   "cell_type": "code",
   "execution_count": 11,
   "id": "37fc61c3",
   "metadata": {},
   "outputs": [],
   "source": [
    "population = letter + symbol + number"
   ]
  },
  {
   "cell_type": "code",
   "execution_count": 14,
   "id": "967fa3a2",
   "metadata": {},
   "outputs": [
    {
     "name": "stdout",
     "output_type": "stream",
     "text": [
      "kCX{9&2P7GvY+d!\n"
     ]
    }
   ],
   "source": [
    "for i in population:\n",
    "    random.shuffle(population)\n",
    "    password = ' '.join(population).strip('').replace(' ', '')\n",
    "print(password)"
   ]
  },
  {
   "cell_type": "code",
   "execution_count": null,
   "id": "c9a8e929",
   "metadata": {},
   "outputs": [],
   "source": []
  }
 ],
 "metadata": {
  "kernelspec": {
   "display_name": "Python 3 (ipykernel)",
   "language": "python",
   "name": "python3"
  },
  "language_info": {
   "codemirror_mode": {
    "name": "ipython",
    "version": 3
   },
   "file_extension": ".py",
   "mimetype": "text/x-python",
   "name": "python",
   "nbconvert_exporter": "python",
   "pygments_lexer": "ipython3",
   "version": "3.10.9"
  },
  "varInspector": {
   "cols": {
    "lenName": 16,
    "lenType": 16,
    "lenVar": 40
   },
   "kernels_config": {
    "python": {
     "delete_cmd_postfix": "",
     "delete_cmd_prefix": "del ",
     "library": "var_list.py",
     "varRefreshCmd": "print(var_dic_list())"
    },
    "r": {
     "delete_cmd_postfix": ") ",
     "delete_cmd_prefix": "rm(",
     "library": "var_list.r",
     "varRefreshCmd": "cat(var_dic_list()) "
    }
   },
   "types_to_exclude": [
    "module",
    "function",
    "builtin_function_or_method",
    "instance",
    "_Feature"
   ],
   "window_display": false
  }
 },
 "nbformat": 4,
 "nbformat_minor": 5
}
